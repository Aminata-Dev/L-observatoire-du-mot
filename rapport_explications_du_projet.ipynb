{
 "cells": [
  {
   "cell_type": "markdown",
   "id": "3b26a377-83e4-4d8e-8517-59ddf81dd863",
   "metadata": {},
   "source": [
    "# L'observatoire du mot\n",
    "\n",
    "[Lien du repository Github](https://github.com/Aminata-Dev/L-observatoire-du-mot)"
   ]
  },
  {
   "cell_type": "markdown",
   "id": "1cb6d0a8-703a-40f7-8008-20c9527818e1",
   "metadata": {},
   "source": [
    "# Introduction – L'Observatoire du mot"
   ]
  },
  {
   "cell_type": "markdown",
   "id": "cafd221e-bf86-475f-834c-1dfcb9cda2c5",
   "metadata": {},
   "source": [
    "Qu'est-ce qu'un mot ? On croit souvent que comprendre un mot, c'est être capable de le définir. Pourtant, dans le langage ordinaire, les mots ne sont pas d'abord des objets de définition : ce sont des outils d'usage.\n",
    "\n",
    "Prenons pour exemple le mot « seum ». Se trouve-t-il dans le dictionnaire ? Peut-être. Mais même lorsqu'il y figure, la définition n'en fait que documenter un usage préexistant. Ce mot, comme tant d'autres, est d'abord appris par immersion, en l'entendant dans des situations précises puis en l'utilisant soi-même. On comprend un mot parce qu'on sait quand et comment l'utiliser – non parce qu'on est capable d'en réciter une définition. Les mots que l'on connait ne sont pas forcément des mots que l'on sait définir mais plutôt des mots que l'on sait utiliser. Comme l'écrivait Wittgenstein dans *Le Cahier Bleu* à ce sujet : « Nous sommes incapables de circonscrire clairement les concepts que nous utilisons ; non parce que nous ne connaissons pas leur vraie définition, mais parce qu'ils n'ont pas de vraie \"définition\". Supposer qu'il y en a nécessairement serait comme supposer que, à chaque fois que des enfants jouent avec un ballon, ils jouent en respectant des règles strictes.» (Wittgenstein, *Le Cahier bleu*, [25-26], trad. M. Goldberg et J. Sackur, Gallimard, p. 67-69).\n",
    "\n",
    "*L'Observatoire du mot* naît de ce constat : un mot est bien plus qu'une entrée dans un dictionnaire. Comprendre un mot, c'est plonger dans son usage vivant, ses contextes, ses résonances culturelles et sociales. L'utilisateur ne reçoit pas un portrait figé du mot de son choix, mais une matière vivante de l'explorer. L'Observatoire du mot est un outil hybride entre **dictionnaire augmenté** et cartographie culturelle pour toute personne curieuse de comprendre non seulement ce que signifie un mot mais également de connaître sa place dans le monde.\n"
   ]
  },
  {
   "cell_type": "markdown",
   "id": "08ab062f",
   "metadata": {
    "vscode": {
     "languageId": "plaintext"
    }
   },
   "source": [
    "# Objectifs et ambitions de *l'Observatoire du mot*"
   ]
  },
  {
   "cell_type": "markdown",
   "id": "512d7d89-046b-47cc-b41b-a55791d3422a",
   "metadata": {},
   "source": [
    "Notre objectif est de créer un programme Python permettant à l'utilisateur de saisir un mot, puis de générer un fichier Excel structuré, interactif et partageable. Ce fichier sera produit à l'aide de la librairie openpyxl. Voici la forme du ficher Excel que nous souhaitons produire :\n",
    "\n",
    "![Schéma](docs/schema_dashboard_observatoire_du_mot.png)\n",
    "\n",
    "Cette maquette de **tableau de bord** est inférée de la liste suivante présentant les « dimensions » d'un mot que nous aimerions explorer et visualiser :\n",
    "\n",
    "- **Dimension sémantique** : définitions / étymologie / synonymes / antonymes / citations célèbres / traductions.\n",
    "- **Dimension culturelle** : apparition du mot dans les titres d'œuvres d'art\n",
    "- **Dimension sociale** via les réseaux sociaux\n",
    "  - Récupérer les tops tweet/threads/commentaires/titres de vidéos/hashtags contenant le mot\n",
    "  - Co-occurrences : avec quels autres mots notre mot se retrouve-t-il le plus ? \n",
    "  - **Dimension statistique** : \n",
    "    - évolution de la fréquence d'apparition du mot\n",
    "\t- Donner un score de popularité (étoiles)\n",
    "- **Dimension médiatique** via médias.\n",
    "  - Retrouver les articles de l'actualité contenant ce mot.\n"
   ]
  },
  {
   "cell_type": "markdown",
   "id": "35ade560",
   "metadata": {},
   "source": [
    "# Réflexions techniques"
   ]
  },
  {
   "cell_type": "markdown",
   "id": "31df2ce9-6f24-4208-a072-92834f90ac57",
   "metadata": {},
   "source": [
    "Pour rendre l'expérience utilisateur fluide, nous envisageons d'ajouter une interface Streamlit dans laquelle l'utilisateur pourra entrer le mot à explorer.\n",
    "Le programme se chargera ensuite de lancer l'ensemble de la pipeline, sans nécessiter de modifications manuelles dans le code."
   ]
  },
  {
   "cell_type": "markdown",
   "id": "aa716d88-41e9-49ed-8d7c-e87fd81c96a3",
   "metadata": {},
   "source": [
    "## Les données du projet"
   ]
  },
  {
   "cell_type": "markdown",
   "id": "97145b6e-0c05-4b5f-b885-ea85ed5598c6",
   "metadata": {},
   "source": [
    "Mais cela soulève une question centrale : comment structurer la récupération des données pour que tout fonctionne dans un ensemble cohérent ? En effet, nous devons collecter des données provenant de nombreuses **sources hétérogènes** pour donner vie à L'Observatoire du mot. Nous avons identifié quatre méthodes principales pour les collecter :\n",
    "\n",
    "- Le flux RSS qui est une manière standardisée de recevoir les derniers contenus publiés sur un site comme un fil d'actualité. Par exemple les flux RSS de journaux comme Le Monde ou Mediapart peuvent nous informer en temps réel des nouveaux articles contenant un mot. Le flux RSS permet de satisfaire la dimension médiatique et statistique.\n",
    "- L'utilisation d'API (Application Programming Interface), interfaces propres aux développeurs qui permettent de demander à des plateformes leurs données via un programme. Exemples : API de Genius, Spotify, IMDB, Reddit, YouTube, Twitter, forums… On demande par exemple \"tous les posts contenant le mot X\" et la plateforme renvoie une réponse structurée en JSON. L'utilisation d'API permet de satisfaire la dimension sociale, culturelle et statistique. L'utilisation d'API de grandes plateformes telles que citées ci-dessus donne également plus de crédibilité au projet car cette approche offre un comparatif qui suscitera l'intérêt de l'utilisateur et rend la dimension statistique plus fiable car ce sont des plateformes utilisées par des milliards d'utilisateurs.\n",
    "- Le scraping est une technique consistant à extraire automatiquement du contenu visible sur une page web. Nous pensons réaliser du scraping sur des pages web statiques comme Wikitionary, CNRTL, Gallica ou CRISCO pour satisfaire la dimension sémantique. Le scraping est un processus simple qui ne demande pas d'identifiants et de création d'applications comme le nécessite l'utilisation d'une API. \n",
    "- Nous pourrons également récupérer et exploiter des jeux de données existants récupérés sur internet (notamment Kaggle ou Projet Gutenberg), pour explorer la dimension culturelle (par exemple jeu de données référençant les titres d'œuvres les plus connus ou récupération de corpus littéraire) et sociale (par exemple top tweets ou forums archivés).\n",
    "\n",
    "Une fois les données collectées, un autre enjeu est de les structurer de manière cohérente malgré leur diversité. Chaque dimension identifiée (sémantique, culturelle, sociale, médiatique) devra respecter un schéma commun afin d'être aisément manipulable en Python et visualisable dans le fichier Excel final.\n",
    "\n",
    "Pour sécuriser notre projet et pouvoir tester l'observatoire sans être dépendants des aléas du scraping ou des limites d'API, nous prévoyons de **constituer un jeu de données de secours**. Ce fichier contiendra un échantillon représentatif pour chaque dimension (tweets les plus connus, titres d'œuvres célèbres, quelques articles de presse, …). Notre projet pourra donc être utilisé en mode déconnecté, ou en cas de saturation de services.\n"
   ]
  },
  {
   "cell_type": "markdown",
   "id": "3f7b23b4-6605-4668-b8fc-18f45fa71e8e",
   "metadata": {},
   "source": [
    "# Programmation du projet"
   ]
  },
  {
   "cell_type": "markdown",
   "id": "b9108607-9d37-4a7c-a125-9a6a4067f570",
   "metadata": {},
   "source": [
    "## Structure du programme\n",
    "\n",
    "Exemple :\n",
    "Nous créons un fichier Python par données. Le fichier main sera chargé de faire appel au module d'importation des données et ..."
   ]
  },
  {
   "cell_type": "markdown",
   "id": "d071bc92",
   "metadata": {},
   "source": [
    "## Choix du mot"
   ]
  },
  {
   "cell_type": "markdown",
   "id": "d8ad41e5-af9c-4b66-9def-32b878eaf48f",
   "metadata": {},
   "source": [
    "Nous choisissons pour mot-test le mot suivant :"
   ]
  },
  {
   "cell_type": "code",
   "execution_count": 1,
   "id": "e2954d28-8b24-41e4-b2ff-b16741244d68",
   "metadata": {},
   "outputs": [],
   "source": [
    "#mot = input(\"\\nEntre un mot de ton choix\\n@> \")\n",
    "mot = \"droite\""
   ]
  },
  {
   "cell_type": "markdown",
   "id": "d70c0266-4489-4818-bcb8-f1b70708fbe5",
   "metadata": {},
   "source": [
    "Le traitement du mot en entrée est géré au niveau de l'[interface Streamlit](#Interface-web-via-Streamlit) (cf section _Gestion du mot en entrée_)."
   ]
  },
  {
   "cell_type": "markdown",
   "id": "14487db4",
   "metadata": {
    "vscode": {
     "languageId": "plaintext"
    }
   },
   "source": [
    "## Dimensions sémantique"
   ]
  },
  {
   "cell_type": "markdown",
   "id": "354e2802-2ee4-4956-8b90-6d1474c8fa34",
   "metadata": {},
   "source": [
    "### Synonymes"
   ]
  },
  {
   "cell_type": "markdown",
   "id": "0159f8f1-e17f-458e-a87e-39d8822cb715",
   "metadata": {},
   "source": [
    "Le choix du site CRISCO (Centre de Recherche Inter-langues sur la Signification en Contexte) s'est imposé naturellement pour notre projet. Ce dictionnaire en ligne de synonymes maintenu par l’Université de Caen présente l'avantage d'être un site statique sans JavaScript ni contenu chargé dynamiquement, ce qui le rend simple à scraper avec des bibliothèques comme requests et BeautifulSoup. De plus, l'URL est directe et intelligible : il suffit d’y ajouter le mot voulu à la fin, sans passer par des identifiants numériques. Pour preuve, il suffit d'ajouter le mot du choix à l'url (et pas un code-index compliqué) pour accéder à la bonne page..."
   ]
  },
  {
   "cell_type": "code",
   "execution_count": 2,
   "id": "59a22123-46e2-443f-8d96-9466f9c1ec50",
   "metadata": {},
   "outputs": [],
   "source": [
    "url = 'https://crisco4.unicaen.fr/des/synonymes/' + mot"
   ]
  },
  {
   "cell_type": "markdown",
   "id": "039b4f0d-7637-423a-8589-3967a67ac97c",
   "metadata": {},
   "source": [
    "...et commencer à parser le contenu html de la page. Le code permettant de récupérer les synonymes a été passé en markdown car le site est down depuis quelques jours. Les données sont toujours disponibles sur Github."
   ]
  },
  {
   "cell_type": "code",
   "execution_count": 3,
   "id": "f22e3e63-bee4-46c8-a634-2f721a6b934c",
   "metadata": {},
   "outputs": [],
   "source": [
    "%%capture\n",
    "pip install beautifulsoup4"
   ]
  },
  {
   "cell_type": "markdown",
   "id": "4761514c-5ed8-47b0-95d3-db45f2422ed3",
   "metadata": {},
   "source": [
    "```python\n",
    "from bs4 import BeautifulSoup\n",
    "import requests\n",
    "\n",
    "page = requests.get(url)\n",
    "\n",
    "#bs4 permet de parser le contenu html d'une page \n",
    "soupe = BeautifulSoup(page.text, features=\"html.parser\")\n",
    "```"
   ]
  },
  {
   "cell_type": "markdown",
   "id": "7296f9e2-613a-43f5-af55-7a60cfa0c2f3",
   "metadata": {},
   "source": [
    "Nous souhaitons obtenir chaque synonyme associé au mot d'entrée et le score de popularité associé au synonyme. Ces éléments se présentent sous la forme suivante :\n",
    "\n",
    "![Tableau à scraper](docs/synonymes/tableau_synonymes_alambique.png)"
   ]
  },
  {
   "cell_type": "markdown",
   "id": "004cb606",
   "metadata": {},
   "source": [
    "![HTML derrière le tableau à scraper](docs/synonymes/inspection_tableau_synonymes_alambique.png)\n",
    "\n",
    "[Code source de la page](view-source:https://crisco4.unicaen.fr/des/synonymes/alambiqu%C3%A9)"
   ]
  },
  {
   "cell_type": "markdown",
   "id": "2d4a86cb-d817-4d7d-95c9-b049e60578ca",
   "metadata": {},
   "source": [
    "Ce tableau contient toutes les informations que nous avons besoin de scraper. Nous ciblons d'abord la balise `<table>` et nous recherchons le contenu des balises `<a href>` qui contiennent les synonymes.\n",
    "\n",
    "Il faut veiller à cibler la basise `<table>`, sans cela nos premiers scraping du contenu des balises `<a href>` allait chercher tous les synonymes à l'ecran ailleurs que dans le tableau d'intérêt identifié plus haut et la somme des synonmymes était supérieure au nombre de lignes du tableau. Nous avons donc adapté notre code de la manière suivante."
   ]
  },
  {
   "cell_type": "markdown",
   "id": "8333e224-da80-4bb6-b300-e0a2dafeb643",
   "metadata": {},
   "source": [
    "```python\n",
    "synonymes = []\n",
    "\n",
    "#modèle : <a href=\"/des/synonymes/balle\">balle</a>\n",
    "for balise_a in soupe.find('table').find_all('a', href=True):\n",
    "    if \"/des/synonymes/\" in balise_a['href']:\n",
    "        synonyme = (balise_a.text).replace('\\xa0', '')\n",
    "        #print(synonyme)\n",
    "        synonymes.append(synonyme)\n",
    "        \n",
    "print(synonymes)\n",
    "```"
   ]
  },
  {
   "cell_type": "markdown",
   "id": "2d487115-8dd6-4269-bfba-f08f84ecfb13",
   "metadata": {},
   "source": [
    "Ensuite nous observons que la taille de la barre affichée grâce à `width` nous permet d'obtenir l'indicateur de score de proximité. Voici le modèle d'une balise contenant l'information de taille de la barre : `<hr style=\"height:6px;width:14px;color:#4040C0;background-color:#4040C0;text-align:left;margin-left:0\">`. Nous utilisons donc une expression régulière afin de récupérer cette information et de l'utiliser dans notre diagramme en bâtons. L'expression régulière est la suivante : `r'width:(\\d+)px'`\n",
    "\n",
    "(\\d+): Les parenthèses () sont utilisées pour capturer un groupe. \\d correspond à n'importe quel chiffre (0-9), et le + signifie \"un ou plusieurs\". Donc, \\d+ correspond à une séquence d'un ou plusieurs chiffres. Cette partie de l'expression régulière capture la valeur numérique de la largeur."
   ]
  },
  {
   "cell_type": "markdown",
   "id": "d5211b27-86af-4bbc-93cf-44af91fd6635",
   "metadata": {},
   "source": [
    "```python\n",
    "#modèle : <hr style=\"height:6px;width:14px;color:#4040C0;background-color:#4040C0;text-align:left;margin-left:0\">\n",
    "\n",
    "import re\n",
    "tailles_barre = []\n",
    "\n",
    "for hr in soupe.find_all('hr', style=True):\n",
    "    #print(hr[\"style\"])\n",
    "    \n",
    "    #extraction du nombre après \"width:\"\n",
    "    match = re.search(r'width:(\\d+)px', hr[\"style\"])\n",
    "\n",
    "    if match:\n",
    "        width = int(match.group(1))\n",
    "        #print(width)\n",
    "    \n",
    "    tailles_barre.append(width)\n",
    "\n",
    "print(tailles_barre)\n",
    "```"
   ]
  },
  {
   "cell_type": "markdown",
   "id": "fb146fb4-3694-45de-89bd-23d740f4d9de",
   "metadata": {},
   "source": [
    "### Vérification de la fiabilité du scraping"
   ]
  },
  {
   "cell_type": "markdown",
   "id": "14b71301-68b6-47dc-8046-601cec968fc4",
   "metadata": {},
   "source": [
    "Enfin, nous nous assurons que le nombre de score de proximité est bien le même que le nombre de synonyme trouvé grâce à l'instruction `assert len(tailles_barre) == len(synonymes)`."
   ]
  },
  {
   "cell_type": "markdown",
   "id": "e08881b1-346a-474c-9d81-c2985552859f",
   "metadata": {},
   "source": [
    "```python\n",
    "assert len(tailles_barre) == len(synonymes)\n",
    "```"
   ]
  },
  {
   "cell_type": "markdown",
   "id": "f4748c85",
   "metadata": {},
   "source": [
    "Enfin, nous avons besoin de sauvegarder nos résultats afin de l'exploiter avec openpyxl. Nous décidons que chaque fichier comme `synonymes.py` doit générer un fichier csv pour le stockage et prêt à l'emploi pour l'utilisation par openpyxl."
   ]
  },
  {
   "cell_type": "markdown",
   "id": "dd904cd6-58ac-451d-93d2-f542287c45b8",
   "metadata": {},
   "source": [
    "## Exportation CSV"
   ]
  },
  {
   "cell_type": "markdown",
   "id": "8b5f3f85-99f4-41ac-a560-eb29136eebd0",
   "metadata": {},
   "source": [
    "### Questions d'optimisations\n",
    "\n",
    "La question qui se pose est la suivante : vaut-il mieux utiliser la librairie pandas ou la librarie csv pour le projet pour travailler et exporter les données? L'utilisation de la librarie csv disponible par défaut dans python permet de garder le programme ultra léger et plus rapide. En effet, la librarie pandas est plus lourde car elle inclut tout un écosystème data (ce qui implique des dépendances externes). Ces quelques milisecondes gagnées en utilisant une librarire ou une autre peuvent être cruciales si notre programme principal de génération du tableau de bord fait appel à plusieurs modules de scraping, requête API et flux RSS à la fois. Nous retenons tout de même la librairie pandas pour éviter de devoir inspecter les données à la main lorsque nous aurons à travailler avec données volumineuses comme les titres d'oeuvres d'art.\n",
    "\n",
    "### Demonstration\n",
    "Nous créons donc un ficher exportations_csv chargé d'exporter un dictionnaire python quelconque contenant les données de la manière suivante :"
   ]
  },
  {
   "cell_type": "code",
   "execution_count": 4,
   "id": "b1b153e3-67de-465c-9f8c-a2ba547bebbe",
   "metadata": {},
   "outputs": [],
   "source": [
    "import pandas as pd\n",
    "import os\n",
    "\n",
    "def exporter_donnees_csv(donnees: dict[str, list], nom_fichier: str, index=False) -> None:\n",
    "    \"\"\"\n",
    "    Exporte un dictionnaire de données en fichier CSV.\n",
    "    \n",
    "    - donnees : dictionnaire {nom_colonne: liste_valeurs}\n",
    "    - nom_fichier : nom du fichier csv à créer (ex: \"synonymes.csv\")\n",
    "    \"\"\"\n",
    "\n",
    "    #création du chemin où sont stockés les données...\n",
    "    chemin_dossier = 'data'\n",
    "    chemin_complet = os.path.join(chemin_dossier, nom_fichier)\n",
    "    #... et création du sous-dossier data s'il n'existe pas\n",
    "    os.makedirs(chemin_dossier, exist_ok=True)\n",
    "\n",
    "    df = pd.DataFrame(donnees)\n",
    "    df.to_csv(chemin_complet, index=index)"
   ]
  },
  {
   "cell_type": "markdown",
   "id": "b3f7dd79-36b4-4222-8c15-5b3e8bcc4cf3",
   "metadata": {},
   "source": [
    "Voici un exemple d'exportation de données dans un format csv prêt à l'emploi pour openpyxl :"
   ]
  },
  {
   "cell_type": "markdown",
   "id": "5219a9e7-058f-4e5e-a9c3-8bf901ce181e",
   "metadata": {},
   "source": [
    "```python\n",
    "synonymes_csv = {\n",
    "    \"mot\": [mot] *len(synonymes),\n",
    "    \"synonyme\": synonymes,\n",
    "    \"score_proximite_mot\": tailles_barre\n",
    "}\n",
    "\n",
    "exporter_donnees_csv(synonymes_csv, \"synonymes.csv\")\n",
    "```"
   ]
  },
  {
   "cell_type": "markdown",
   "id": "17aad765-c484-4cb2-8428-cd83e9ff7552",
   "metadata": {},
   "source": [
    "Chaque fichier python manipulant et traitant des données doit terminer par une instruction faisant appel à la fonction d'exportation. nous créons un module d'exportation et l'appelons dans les différents programmes de la manière suivante : \n",
    "```python \n",
    "from exportation_csv import exporter_donnees_csv\n",
    "```"
   ]
  },
  {
   "cell_type": "markdown",
   "id": "0620ca7c-d498-4aae-ad5b-e95ee1a607ef",
   "metadata": {},
   "source": [
    "Le code python permettant de récupérer les synonymes se trouve dans le fichier python `./synonymes.py`. Ce code possède en plus la gestion des erreurs grâce au try - except blocks.\n",
    "> The try block lets you test a block of code for errors.\n",
    "> The except block lets you handle the error.\n",
    "\n",
    "La gestion des erreurs sera utilisée tout au long de nos codes, principalement en cas de soucis de réponse du site sur lequel nous scrapons (ce qui arrive généralement lorsque le site ne reconnait pas le mot entré).\n",
    "\n",
    "Notre fonction genère également le fichier CSV de synonymes dans le dossier `./data/` et retourner `False` si le site CRISCO est down ou si le mot n'est pas trouvé ou tout autre erreur qui empêcherait la génération du fichier CSV associé. \n",
    "\n",
    "Le code python permettant d'exporter un dictionnaire python en fichier csv se trouve dans le fichier `./exportation_csv.py`"
   ]
  },
  {
   "cell_type": "markdown",
   "id": "49ed001c-53b9-48a9-8228-0e0b6fc12065",
   "metadata": {},
   "source": [
    "Il ne nous reste plus qu'à récupérer la fiche lexicale du mot. Ces éléments sont sa définition, sa prononciation et son étymologie."
   ]
  },
  {
   "cell_type": "markdown",
   "id": "ffc03b06-5462-42f4-ad4f-0f6464dce78a",
   "metadata": {},
   "source": [
    "## Digression : l'Open Data"
   ]
  },
  {
   "cell_type": "markdown",
   "id": "27b9554c-f398-4ff1-a2c1-c168cc14bd86",
   "metadata": {
    "jp-MarkdownHeadingCollapsed": true
   },
   "source": [
    "Beaucoup de sites possédant des cookies wall [(exemple)](https://www.larousse.fr/dictionnaires/francais/alambiqu%C3%A9/2015) sont bannis de notre recherche. En effet, certaines plateformes, bien que riches en contenus, imposent des barrières à l'entrée (cookies wall, abonnements, API payantes, restrictions commerciales), limitant la possibilité d'exploration automatisée, de réutilisation ou de visualisation ouverte. Par exemple, des dictionnaires numériques grand public comme Larousse ou Le Robert verrouillent l'accès aux définitions via des dispositifs qui compliquent l'extraction de données à des fins de recherche ou d'analyse.\n",
    "\n",
    "En contraste, des ressources comme Wikidata, les flux RSS de la presse, ou encore des portails institutionnels comme le CNRTL (Centre National de Ressources Textuelles et Lexicales) incarnent l'esprit de l'open data. Ces plateformes favorisent la transparence de leurs structures de données, encouragent la réutilisation via des API ouvertes ou des formats interopérables et participent à la démocratisation de l'accès au savoir.\n",
    "\n",
    "Des plateformes comme le Centre National de Ressources Textuelles et Lexicales (CNRTL), issues de la recherche publique, offrent un accès libre à des définitions riches, étymologies, synonymes et exemples, sans publicité ni pistage. Dans la même optique, nous utiliserons Wikidata, une base de connaissances sémantique libre et collaborative, pour interroger dynamiquement nos œuvres à partir de mots en entrée. De la même façon, les flux RSS permettent de collecter légalement et en temps réel des titres et résumés d'articles d'actualité issus de médias variés, sans dépendre d'algorithmes opaques ou de systèmes de monétisation intrusifs.\n",
    "\n",
    "Ce type de ressource est essentiel pour bâtir des outils linguistiques, culturels ou éducatifs à destination du grand public.\n",
    "\n",
    "Ce choix de l'open data est donc à la fois une nécessité technique (ne pas dépendre d'écosystèmes fermés comme Twitter, dont les API sont devenues depuis peu inaccessibles) et une opportunité méthodologique (simplicité d'utilisation des données et formats standards) et un engagement politique pour une culture des communs."
   ]
  },
  {
   "cell_type": "markdown",
   "id": "922e319b-1196-4409-ab0b-98e31b8ec0d4",
   "metadata": {},
   "source": [
    "## Fiche lexicale\n",
    "\n",
    "Nous utilisons pour base de la création de fichiers csv constituant notre fiche lexicale pour leurs définitions complètes, leurs multiples exemples et leurs simplicité d'interface sans publicité les sites\n",
    "- [Centre National de Ressources Textuelles et Lexicales (CNRTL)](https://www.cnrtl.fr/definition/incandescent).\n",
    "- [Wikitionary](https://fr.wiktionary.org/wiki/incandescent)"
   ]
  },
  {
   "cell_type": "markdown",
   "id": "9c8c95f8-befd-480c-aaa0-f091a7095771",
   "metadata": {},
   "source": [
    "Nous créons un fichier python dédié à la génération d'une fiche lexicale nommé `fiche_lexicale.py`. Pour se faire, nous extrayons les données des deux sites cités précédemment pour obtenir une fiche lexicale complète.\n",
    "\n",
    "Voici notre code de scraping, qui suit la même logique que la récupération des synonymes, en gardant en tête qu'un bon scraping ne se fait pas avant d'avoir étudié le code source de la page en profondeur et avant d'avoir effectué les tests sur plusieurs cas pour repérer les erreurs de scraping."
   ]
  },
  {
   "cell_type": "code",
   "execution_count": 5,
   "id": "d9a8dd65-4c11-4823-96ca-fd9bab11f742",
   "metadata": {},
   "outputs": [
    {
     "name": "stdout",
     "output_type": "stream",
     "text": [
      "\n",
      "Définition :\n",
      "- Situé du côté opposé à celui du cœur.\n",
      "- À droite (infra II D 1).\n",
      "- fais le bien avec discrétion :\n",
      "- Qui concerne le côté droit du corps.\n",
      "- Poing droit.\n",
      "- Qui correspond au côté droit de l'observateur.\n",
      "- Main droite.\n",
      "- Poing droit (supra I A 4 a).\n",
      "- Côté de la main droite.\n",
      "- Emprunter le côté droit de la chaussée :\n",
      "- Côté droit de l'hémicycle d'une assemblée parlementaire.\n",
      "- L'ensemble des parlementaires qui y siègent; les idées, les partis (traditionnellement conservateurs ou réactionnaires) qu'ils représentent, l'opinion publique qui les soutient.\n",
      "- Du côté de la main droite.\n",
      "- Mouvement vers la droite.\n",
      "- De tous côtés.\n"
     ]
    }
   ],
   "source": [
    "from bs4 import BeautifulSoup\n",
    "import requests\n",
    "\n",
    "#CNRTL\n",
    "url = f\"https://www.cnrtl.fr/definition/{mot}\"\n",
    "r = requests.get(url)\n",
    "soup = BeautifulSoup(r.text, 'html.parser')\n",
    "\n",
    "##### Définitions\n",
    "definitions = []\n",
    "for span in soup.find_all(\"span\", class_=\"tlf_cdefinition\"):\n",
    "    definitions.append(span.text)\n",
    "    \n",
    "print(\"\\nDéfinition :\")\n",
    "for d in definitions:\n",
    "    print(\"-\", d)\n",
    "\n",
    "exporter_donnees_csv(\n",
    "    {\"mot\": [mot] * len(definitions),\n",
    "    \"définition\":definitions},\n",
    "    \"definitions.csv\"\n",
    ")\n",
    "\n",
    "##### Étymologie\n",
    "etymologies = []\n",
    "for span in soup.find_all(\"span\", class_=\"tlf_ety\"):\n",
    "    etymologies.append(span.text)\n",
    "#print(etymologies)\n",
    "\n",
    "exporter_donnees_csv(\n",
    "    {\"mot\": [mot] * len(etymologies),\n",
    "    \"etymologie\":etymologies},\n",
    "    \"etymologies.csv\"\n",
    ")"
   ]
  },
  {
   "cell_type": "code",
   "execution_count": 6,
   "id": "73576a7b-c359-4a10-a8ba-862177580cb9",
   "metadata": {},
   "outputs": [
    {
     "name": "stdout",
     "output_type": "stream",
     "text": [
      "\n",
      "Citations :\n",
      "- À sa gauche et à sa droite, deux minuscules galeries dessinaient les bras de croix d’un petit transept.\n",
      "- Nous envoyons les dragons en éclaireurs, mais rien à droite, rien à gauche, et, devant nous, à cinq cents mètres, la colline et la forêt.\n",
      "- Céder la droite.\n",
      "- Tenir la droite.\n",
      "- Il se cala contre le rocher, tendit ses bras dans son dos, et commença à frotter la corde contre la pierre coupante. Le chanvre céda peu à peu, relâchant la pression qu’il exerçait sur ses veines. Puis ses mains s’écartèrent d’un coup, la droite allant heurter violemment la roche.\n",
      "- Tais-toi avant que je te mette une droite !\n",
      "- Il avait ramassé notamment deux droites assez violentes, un uppercut qui l'avait fait vaciller.\n",
      "- J'dis pas que Louis était toujours très social, non, il avait l'esprit de droite. Quand tu parlais augmentation ou vacances, il sortait son flingue avant que t'aies fini.\n",
      "- On diagnostiquera à juste titre ce que Besnier-Thomas nomment « une maladie de la volonté ». Mais cette maladie est peut-être davantage qu'une aboulie. La gauche « qui ne sait plus ce qu'elle veut » ne se contente plus de se taire, mais prend l'habitude de faire sien le grand discours de régression d'une droite dont elle envie la bonne santé, d'une droite à l'entrain réactionnaire communicatif.\n",
      "- Si les musulmans radicaux sont la nouvelle droite, ils partagent avec l'ancienne une opinion pessimiste de la civilisation moderne décadente.\n",
      "- Mais ce que disent ces hommes de gauche, une fois libérés des pesanteurs de l’appareil, n’est rien d’autre que ce que la droite soutient…\n",
      "- Les radsocs de l'époque, véritables précurseurs de la social-démocratie, situés à la droite de socialistes sur le demi-camembert électoral, passeraient aujourd'hui pour des gauchistes.\n",
      "- Ce matin-là, sur Facebook, des gens de droite se scandalisaient de l'existence de gens de gauche, complètement déconnectés des vraies exigences de la vraie vie, pendant que des gens de gauche se scandalisaient de l'existence de gens de droite, complètement déconnectés des vraies exigences de la vraie vie. Tous utilisaient exactement les mêmes raccourcis intellectuels qu'ils critiquaient chez le camp adverse.\n",
      "- Ce que j’ai essayé de faire apparaître, c’est : (i) que le syntagme nominal qui peut être déplacé vers la droite ne peut pas être déplacé vers la gauche, (ii) […]\n",
      "- La droite est le plus court chemin d’un point à un autre.\n",
      "- L'expression « la droite des réels » exprime le fait que l'ensemble ℝ est isomorphe avec toute droite géométrique.\n",
      "- On côtoie ensuite la rive droite du Loing par un chemin ombragé fort agréable, qui traverse la Croisière, Dordives, où l'on entre dans le département du Loiret, Ferrières, Puits-la-Lande et Montargis, ville agréablement située sur la rivière et le canal du Loing.\n",
      "\n",
      "Prononciation :  \\dʁwat\\\n"
     ]
    }
   ],
   "source": [
    "#Wikitionary\n",
    "url = f\"https://fr.wiktionary.org/wiki/{mot}\"\n",
    "r = requests.get(url)\n",
    "soup = BeautifulSoup(r.text, \"html.parser\")\n",
    "\n",
    "##### Citations\n",
    "#modèle : <bdi lang=\"fr\" class=\"lang-fr\"><i>Le lendemain, ils ne se voyaient pas. Les couples restaient enfermés chez eux, à la diète, écœurés, abusant de cafés noirs et de cachets <b>effervescents</b>.</i></bdi>\n",
    "citations = []\n",
    "for bdi in soup.find_all(\"bdi\", lang=\"fr\", class_=\"lang-fr\"):\n",
    "    if bdi.get(\"about\", \"\") != \"#mwt10\": #sinon prends des choses autres que des défintions dans la page\n",
    "        try:\n",
    "            citation = bdi.find(\"i\").text\n",
    "            #print(citation)\n",
    "            citations.append(citation)\n",
    "        except:pass #si pas de citations\n",
    "\n",
    "print(\"\\nCitations :\")\n",
    "for c in citations:\n",
    "    print(\"-\", c)\n",
    "\n",
    "exporter_donnees_csv(\n",
    "    {\"mot\": [mot] * len(citations),\n",
    "    \"citation\":citations},\n",
    "    \"citations.csv\"\n",
    ")\n",
    "\n",
    "##### Prononciation API\n",
    "#modèle prononciation : <span class=\"API\" title=\"Prononciation API\">\\e.fɛʁ.ve.sɑ̃\\</span></a>\n",
    "\n",
    "try:\n",
    "    for span in soup.find(\"span\", class_=\"API\",title=\"Prononciation API\"): #le premier est le français, les autres concernent les traductions\n",
    "        #print(span)\n",
    "        prononciation = span.text\n",
    "except: #pour les mots qui n'existent pas\n",
    "    prononciation=\"\"\n",
    "print(\"\\nPrononciation : \", prononciation)\n",
    "\n",
    "exporter_donnees_csv(\n",
    "    {\"mot\": [mot],\n",
    "    \"prononciation\":[prononciation]},\n",
    "    \"prononciation.csv\"\n",
    ")"
   ]
  },
  {
   "cell_type": "markdown",
   "id": "46879701-1a1c-4c96-9fdd-77a553e925c9",
   "metadata": {},
   "source": [
    "Le code entier se trouve dans le fichier `./fiche_lexicale.py`. Pour extraire la fiche lexicale d'un mot, il faut appeler le fonction `recup_fiche_lexicale()` du fichier qui prend pour seul argument le mot d'entrée."
   ]
  },
  {
   "cell_type": "markdown",
   "id": "dd937d04-0c51-44b4-9ebd-07bc6b20acbe",
   "metadata": {},
   "source": [
    "## Dimension culturelle"
   ]
  },
  {
   "cell_type": "markdown",
   "id": "77353ee9-6917-42de-bfef-9e220fee5640",
   "metadata": {},
   "source": [
    "Le but est d'obtenir la distribution du mot d'entrée dans les titres d'oeuvres d'art afin d'en observer la répartition au sein du monde artistique. Nous souhaitons ensuite en faire un camembert (diagramme en secteurs).\n",
    "\n",
    "J'ai eu à travailler avec Wikidata au sein de mon entreprise dans le cadre de la fiabilisation d'une base de données interne. Naturellement l'idée d'obtenir des informations de titre d'oeuvres d'art de manière rapide et structurée ne pouvait pas se passer de Wikidata.\n",
    " \n",
    "Voici une description de l'outil que nous allons utiliser :\n",
    " \n",
    "> Wikidata est une base de connaissances libre, collaborative et multilingue créée par la Wikimedia Foundation. Elle centralise des données structurées sur une grande variété de sujets : personnes, œuvres d'art, lieux, concepts, événements, etc. Contrairement à Wikipédia, qui s'adresse aux humains sous forme d'articles encyclopédiques, Wikidata organise l'information de manière à être facilement lisible et interrogeable par des machines. Elle constitue une pierre angulaire du Web sémantique.\n",
    "\n",
    "> Chaque élément dans Wikidata possède un identifiant unique (par exemple Q42 pour Douglas Adams) et est décrit à l'aide d'énoncés structurés : propriétés (P31 pour \"instance de\", P1476 pour \"titre\", etc.) et valeurs (autres entités ou chaînes de caractères). Ces données sont interconnectées, multilingues et peuvent être exploitées à grande échelle.\n",
    "\n",
    "> Pour interroger Wikidata, on utilise le langage SPARQL (SPARQL Protocol and RDF Query Language), un langage standard conçu pour extraire des informations de bases de données RDF (Resource Description Framework). SPARQL fonctionne comme un équivalent de SQL pour les données du Web sémantique."
   ]
  },
  {
   "cell_type": "markdown",
   "id": "4fac1e08-1953-4694-ac95-04c8f7931c77",
   "metadata": {},
   "source": [
    "Voici un exemple de requête SPARQL similaire à notre objectif et trouvée dans la documentation de Wikidata. Cette requête permet de [trouver tous les artistes dont le genre artistique contient le mot 'rock'](https://query.wikidata.org/#%23Artistes%20dont%20le%20genre%20artistique%20contient%20le%20mot%20%27rock%27%0ASELECT%20DISTINCT%20%3Fhuman%20%3FhumanLabel%0AWHERE%0A%7B%0A%20%20%20%20VALUES%20%3Fprofessions%20%7Bwd%3AQ177220%20wd%3AQ639669%7D%0A%20%20%20%20%3Fhuman%20wdt%3AP31%20wd%3AQ5%20.%0A%20%20%20%20%3Fhuman%20wdt%3AP106%20%3Fprofessions%20.%0A%20%20%20%20%3Fhuman%20wdt%3AP136%20%3Fgenre%20.%0A%20%20%20%20%3Fhuman%20wikibase%3Astatements%20%3Fstatementcount%20.%0A%20%20%20%20%3Fgenre%20rdfs%3Alabel%20%3FgenreLabel%20.%0A%20%20%20%20FILTER%20CONTAINS%28%3FgenreLabel%2C%20%22rock%22%29%20.%0A%20%20%20%20FILTER%20%28%3Fstatementcount%20%3E%2050%20%29%20.%0A%20%20%20%20SERVICE%20wikibase%3Alabel%20%7B%20bd%3AserviceParam%20wikibase%3Alanguage%20%22en%22%20%7D%0A%7D%0AORDER%20BY%20%3FhumanLabel%0ALIMIT%2050)\n",
    "\n",
    "```sparql\n",
    "#Artistes dont le genre artistique contient le mot 'rock'\n",
    "SELECT DISTINCT ?human ?humanLabel\n",
    "WHERE\n",
    "{\n",
    "    VALUES ?professions {wd:Q177220 wd:Q639669}\n",
    "    ?human wdt:P31 wd:Q5 .\n",
    "    ?human wdt:P106 ?professions .\n",
    "    ?human wdt:P136 ?genre .\n",
    "    ?human wikibase:statements ?statementcount .\n",
    "    ?genre rdfs:label ?genreLabel .\n",
    "    FILTER CONTAINS(?genreLabel, \"rock\") .\n",
    "    FILTER (?statementcount > 50 ) .\n",
    "    SERVICE wikibase:label { bd:serviceParam wikibase:language \"en\" }\n",
    "}\n",
    "ORDER BY ?humanLabel\n",
    "LIMIT 50\n",
    "```\n",
    "\n",
    "Voici le site que j'utilise lors de mon travail en entreprise : [Wikidata Query Service](https://query.wikidata.org/). En effet Wididata met à disposition une interface simple en ligne permettant\n",
    "\n",
    "- d'écrire des requêtes SPARQL (plusieurs requêtes d'exemple sont disponibles sur le site);\n",
    "- de visualiser les données scraper dans une table et de faire des recherches de valeurs dedans;\n",
    "- d'exporter les données en JSON ou CSV.\n",
    "\n",
    "De plus, Wikidata propose un [tutoriel simple](https://www.wikidata.org/wiki/Wikidata:SPARQL_tutorial/fr) pour comprendre comment créer une requête pour obtenir les informations souhaitées grâce à la base de données Wikidata. Fait marrant, Wikidata commence son tutoriel par l'exemple d'une requête pour la recherche de toutes les oeuvres d'art pour expliquer un concept fondamental du schéma sujet - verbe - complément utilisé par la base de données Wikidata.\n",
    "\n",
    "![Tutoriel Wikidata : Classes et Instances](docs/tutoriel_wikidata.png)\n",
    "\n",
    "> Lorsque j'ai écrit ceci (octobre 2016), cette requête retournait 2615 résultats.\n",
    "\n",
    "Le nombre d'éléments ayant pour classe [\"oeuvre d'art\"](https://www.wikidata.org/wiki/Q838948) répertorié est maintenant de 34 319 le 4 juin et 34 320 le 5 juin 2025 !"
   ]
  },
  {
   "cell_type": "markdown",
   "id": "052c0143-5d02-401a-9050-332cd84e781e",
   "metadata": {},
   "source": [
    "Cependant et comme spécifié dans le tutoriel, requêter les oeuvres d'art n'est pas suffisant. Il faut également considérer les classes qui héritent de l'élément \"oeuvre d'art\", qu'ils soient enfants, petits-enfants ou petits petits enfants de l'élement oeuvre d'art. \n",
    "> Lorsque j'ai écrit ceci (octobre 2016), cette requête retrouvait 2615 résultats - évidemment, il y a plus d'œuvres d'art que cela ! Le problème est qu'il manque des éléments comme \"Autant en emporte le vent\", qui est seulement une instance de \"film\" et non de \"œuvre d'art\". \"film\" est une sous-classe d'\"œuvre d'art\", mais nous devons dire à SPARQL de prendre cela en compte lors de la recherche.\n",
    "\n",
    "La requête associée est la suivante :\n",
    "```sparql\n",
    "WHERE\n",
    "{\n",
    "  ?oeuvre wdt:P31/wdt:P279* wd:Q838948. # >* instance de n'importe quelle sous-classe d'une œuvre d'art : mais trop d'oeuvres -> la requête ne se termine pas\n",
    "  SERVICE wikibase:label { bd:serviceParam wikibase:language \"[AUTO_LANGUAGE]\". }\n",
    "}\n",
    "```\n",
    "\n",
    "Mais cette requête pose problème. L'auteur de l'article exemple ecrit :\n",
    "> Je ne recommande pas d'exécuter cette requête. WDQS peut la gérer (tout juste), mais il est possible que votre navigateur se plante lors de l'affichage des résultats car ils sont très nombreux.\n",
    "\n",
    "C'est exactement ce qu'il se passe de notre côté.\n",
    "\n",
    "![Limite du temps de requête atteinte](docs/wikidata_limite_temps_atteinte.png)\n"
   ]
  },
  {
   "cell_type": "markdown",
   "id": "6cf21ded-1fd4-483e-9f87-b407a445e920",
   "metadata": {},
   "source": [
    "En utilisant les requêtes montrées pécedemment (artistes dont le groupe contient le mot \"rock\" et la récupération de tous éléments instances d'oeuvre d'art), nous avons été capables de produire la requête suivante. Nous avons du pour cela procéder à une analyse des éléments que nous souhaitions recupérer afin de créer la requête qui nous convient. Cette analyse est expliquée longuement après cette requête."
   ]
  },
  {
   "cell_type": "markdown",
   "id": "7a450500-77d6-410f-9116-58a315448be6",
   "metadata": {},
   "source": [
    "```sparql\n",
    "SELECT ?typeLabel (COUNT(?oeuvre) AS ?nbr)\n",
    "WHERE {\n",
    "  VALUES ?type { wd:Q3305213 } #peinture, oeuvres littéraires, film, album musical /// wd:Q3305213 wd:Q7725634 wd:Q11424 wd:Q482994\n",
    "\n",
    "  ?oeuvre wdt:P31 ?type. #instance de l'ensemble de classe selectionné ci-dessus\n",
    "\n",
    "  ?oeuvre rdfs:label ?oeuvreLabel. #Nous obtenons l'ensemble des libellés de nos oeuvres dans ?oeuvreLabel,\n",
    "  FILTER(LANG(?oeuvreLabel) = \"fr\"). #nous restreignons les libellés aux libéllés français\n",
    "  FILTER(CONTAINS(LCASE(?oeuvreLabel), \"nuit\")). #...puis nous vérifions que les libéllés contiennent le mot en questions\n",
    "\n",
    "  #?oeuvre wdt:P166 ?prix.  #uniquement les œuvres primées pour éviter un trop grand nombre de résultats\n",
    "\n",
    "  SERVICE wikibase:label { bd:serviceParam wikibase:language \"fr\". } #Nous créons les libéllés des variables\n",
    "\n",
    "}\n",
    "GROUP BY ?typeLabel\n",
    "LIMIT 450\n",
    "```"
   ]
  },
  {
   "cell_type": "markdown",
   "id": "89111f69-9f3b-4039-b6e1-401c69bff212",
   "metadata": {},
   "source": [
    "Voici le cheminement de pensée qui nous as améné à trouver la requête ci dessus :\n",
    "\n",
    "Par exemple, je veux obtenir [_Le Livre de Sable_ de Jorge Luis Borges](https://www.wikidata.org/wiki/Q20761845) dans mes résultats lorsque je lance la requête avec le mot \"sable\", mais j'observe que chercher tous les éléments de Wikidata dont la classe est ou est sous-classe d'oeuvres d'art n'est pas suffisante.\n",
    "\n",
    "Je prends donc la classe [**œuvre littéraire**](https://www.wikidata.org/wiki/Q7725634) à laquelle ce livre appartient et l'ajoute à la liste des classes pour laquelle je cherche des éléments.\n",
    "Pour le mot \"nuit\", je souhaite obtenir _La nuit étoilée de Van Gogh_, [_Le Songe d'une nuit d'été de William Shakespeare_](https://www.wikidata.org/wiki/Q104871) et [_Voyage au bout de la nuit de Louis-Ferdinand Céline_](https://www.wikidata.org/wiki/Q105102304) dans le même résultat. Ces oeuvres qui ont des types d'oeuvres différents. J'observe que le premier est une instance de peinture qui elle-même est sous-classe d'oeuvre d'art. Notre requête réussira donc à récupérer cette oeuvre. Le deuxième est une instance d'oeuvre dramatique qui elle-même est sous-classe de d'[oeuvre littéraire](https://www.wikidata.org/wiki/Q7725634) qui n'est pas sous-classe d'[oeuvre](https://www.wikidata.org/wiki/Q386724) mais d'autres dérives : \n",
    "\n",
    "![Sous classe \"oeuvre litteraire\"](docs/wikidata_sous_classe_oeuvre_litteraire.png)\n",
    "\n",
    "Nous ajoutons donc aux côtés de la classe _oeuvre_ la classe [oeuvre littéraire](https://www.wikidata.org/wiki/Q7725634) dans notre recherche d'éléments. Cette méthode permet de récupérer [_Voyage au bout de la nuit de Louis-Ferdinand Céline_](https://www.wikidata.org/wiki/Q105102304) qui est une instance d'oeuvre littéraire. \n",
    "\n",
    "Ensuite, nous constatons qu'il n'y a aucun [film](https://www.wikidata.org/wiki/Q11424) dans la répartition de nos données. Nous ajoutons donc la [classe film](https://www.wikidata.org/wiki/Q11424) dans notre recherche. Il en va de même pour oeuvres musicales : nous cherchons une musique dans Wikidata, nous observons à quelle classe cet élément appartient et nous l'ajoutons à l'ensemble des classes cibles. Cependant, il n'y a pas beaucoup de chansons répértoriées. Pas autant que les albums de musique. Nous optons donc de choisir la classe \"album\" musical plutôt qu'oeuvres musicales.\n",
    "\n",
    "Ainsi, en inspectant nos données petit à petit, nous sommes capables de créer une requête équilibré et complète."
   ]
  },
  {
   "cell_type": "markdown",
   "id": "b20ab396-2a73-47dd-a6e4-255b8a5b5a3b",
   "metadata": {},
   "source": [
    "Durant les première tentatives de cette requête, nous nous attendions à voir _La nuit étoilée (Cyprès et Villages)_ de Van Gogh. Or nous ne trouvions pas le tableau dans la liste des résultats, élément qui nous a mis sur la piste que nous devions faire attention à la **sensibilité à la casse** et nous avons rectifons ce problème en remplaçant `sparql FILTER CONTAINS(?peintureLabel, \"nuit\").` par `sparql FILTER(CONTAINS(LCASE(?peintureLabel), \"nuit\")).`"
   ]
  },
  {
   "cell_type": "markdown",
   "id": "230c3e4a-92de-44df-bb74-7bcf7139e3e4",
   "metadata": {},
   "source": [
    "Il ne reste plus qu'à voir si les résultats ne seront pas trop désequilibré d'un art à l'autre : on peut par exemple supposer que la littérature sera surreprésenté par rapport à la musique par exemple.\n",
    "\n",
    "Nous passons donc par python. En effet, nous sommes capables grâce à la librairie requests d'obtenir les résultats d'une requête SPARQL sur Wikidata. Nous déléguons donc la requête au programme python puis nous récupérons le resultat dans un dictionnaire afin d'observer la répartition des classes d'éléments trouvés selon différents paramètres. En effet, beaucoup de combinaisons et de classes différents sont possibles (: récupération des eléménts de classe X, instance et sous-classe de X, sous-classe et sous-sous-classe de la classe Y,...).\n",
    "\n",
    "- L'utilisation de python permet de rendre la requête modulable grâce à l'utilisation de f-string. Un f-string en Python est une manière simple de créer des chaînes de caractères qui incluent des variables ou des expressions en les plaçant entre accolades dans une chaîne préfixée par f. Par exemple, f\"WHERE = {mot}!\" insère la valeur de la variable mot directement dans la chaîne."
   ]
  },
  {
   "cell_type": "code",
   "execution_count": 7,
   "id": "2f1d8435-dd58-45f8-8d34-53eace42a8ac",
   "metadata": {},
   "outputs": [
    {
     "name": "stdout",
     "output_type": "stream",
     "text": [
      "Erreur lors de la requête SPARQL : 504\n"
     ]
    },
    {
     "data": {
      "text/html": [
       "<div>\n",
       "<style scoped>\n",
       "    .dataframe tbody tr th:only-of-type {\n",
       "        vertical-align: middle;\n",
       "    }\n",
       "\n",
       "    .dataframe tbody tr th {\n",
       "        vertical-align: top;\n",
       "    }\n",
       "\n",
       "    .dataframe thead th {\n",
       "        text-align: right;\n",
       "    }\n",
       "</style>\n",
       "<table border=\"1\" class=\"dataframe\">\n",
       "  <thead>\n",
       "    <tr style=\"text-align: right;\">\n",
       "      <th></th>\n",
       "      <th>type</th>\n",
       "      <th>nombre</th>\n",
       "    </tr>\n",
       "  </thead>\n",
       "  <tbody>\n",
       "    <tr>\n",
       "      <th>0</th>\n",
       "      <td>peinture</td>\n",
       "      <td>86</td>\n",
       "    </tr>\n",
       "    <tr>\n",
       "      <th>1</th>\n",
       "      <td>œuvre littéraire</td>\n",
       "      <td>21</td>\n",
       "    </tr>\n",
       "    <tr>\n",
       "      <th>2</th>\n",
       "      <td>film</td>\n",
       "      <td>12</td>\n",
       "    </tr>\n",
       "  </tbody>\n",
       "</table>\n",
       "</div>"
      ],
      "text/plain": [
       "               type  nombre\n",
       "0          peinture      86\n",
       "1  œuvre littéraire      21\n",
       "2              film      12"
      ]
     },
     "execution_count": 7,
     "metadata": {},
     "output_type": "execute_result"
    }
   ],
   "source": [
    "import requests\n",
    "import pandas as pd\n",
    "\n",
    "# Types d'œuvres : peinture, œuvre littéraire, film, album musical\n",
    "types_oeuvres = {\n",
    "    \"peinture\": \"wd:Q3305213\",\n",
    "    \"oeuvre_litteraire\": \"wd:Q7725634\",\n",
    "    \"film\": \"wd:Q11424\",\n",
    "    \"album_musical\": \"wd:Q482994\"\n",
    "}\n",
    "\n",
    "def requete_sparql_par_type(mot, type_wikidata):\n",
    "    \"\"\"\n",
    "    Recherche les titres d'œuvres contenant un mot via Wikidata (SPARQL).\n",
    "    Retourne une liste de titres.\n",
    "    \"\"\"\n",
    "    \n",
    "    # Requête SPARQL : cherche des titres d'œuvres contenant le mot\n",
    "    #Nous rendons notre requête la plus modulable possible grâce à l'ajout de f-string\n",
    "    query = f\"\"\"\n",
    "    SELECT ?typeLabel (COUNT(?oeuvre) AS ?nbr)\n",
    "    WHERE {{\n",
    "      VALUES ?type {{ {type_wikidata} }} #peinture, oeuvres littéraires, film, album musical /// wd:Q3305213 wd:Q7725634 wd:Q11424 wd:Q482994\n",
    "\n",
    "      ?oeuvre wdt:P31 ?type. #instance de l'ensemble de classe selectionné ci-dessus\n",
    "      \n",
    "      ?oeuvre rdfs:label ?oeuvreLabel. #Nous obtenons l'ensemble des libellés de nos oeuvres dans ?oeuvreLabel,\n",
    "      FILTER(LANG(?oeuvreLabel) = \"fr\"). #nous restreignons les libellés aux libéllés français\n",
    "      FILTER(CONTAINS(LCASE(?oeuvreLabel), \"{mot.lower()}\")). #...puis nous vérifions que les libéllés contiennent le mot en questions\n",
    "      \n",
    "      #?oeuvre wdt:P166 ?prix.  #uniquement les œuvres primées pour éviter un trop grand nombre de résultats\n",
    "\n",
    "      SERVICE wikibase:label {{ bd:serviceParam wikibase:language \"fr\". }} #Nous créons les libéllés des variables\n",
    "\n",
    "    }}\n",
    "    GROUP BY ?typeLabel\n",
    "    LIMIT 450\n",
    "    \"\"\"\n",
    "    #Un f-string est une manière simple de créer des chaînes de caractères qui incluent des variables ou des expressions en les plaçant entre accolades dans une chaîne préfixée par f.\n",
    "\n",
    "    #envoie de la requête et récupération du résultat en json\n",
    "    url = \"https://query.wikidata.org/sparql\"\n",
    "    headers = {\"Accept\": \"application/sparql-results+json\"}\n",
    "    response = requests.get(url, params={\"query\": query}, headers=headers)\n",
    "    if response.status_code != 200:\n",
    "        print(f\"Erreur lors de la requête SPARQL : {response.status_code}\")\n",
    "        return False #Limit time exceeded\n",
    "    return response.json()\n",
    "\n",
    "#lancement de la requête pour chaque type\n",
    "resultats = []\n",
    "for label, qid in types_oeuvres.items():\n",
    "    json_data = requete_sparql_par_type(mot, qid)\n",
    "    if json_data: #False si pas de données trouvées\n",
    "        bindings = json_data[\"results\"][\"bindings\"]\n",
    "        for res in bindings:\n",
    "            nbr_type = {\n",
    "                \"type\": res[\"typeLabel\"][\"value\"],\n",
    "                \"nombre\": int(res[\"nbr\"][\"value\"])\n",
    "            }\n",
    "            resultats.append(nbr_type)\n",
    "\n",
    "#et fusion des résultats dans un DataFrame\n",
    "df_resultats = pd.DataFrame(resultats)\n",
    "df_resultats.to_csv(\"data/repartition_types_oeuvres_art.csv\")\n",
    "df_resultats"
   ]
  },
  {
   "cell_type": "markdown",
   "id": "d84b5978-9752-4d41-b832-4e50d3e97615",
   "metadata": {},
   "source": [
    "- L'utilisation de python et de la structure de données dictionnaire nous permet également de vérifier les résultats rapidement en effectuant la même opération : afficher la répartition des classes des éléments trouvés grâce à la requête. Lorsque nous ne récupérions pas uniquement le nombre d'éléments dans une catégorie avec le mot clé SQL `COUNT(), nous utilisions ce code python afin d'analyser nos résultats.\n",
    "\n",
    "\n",
    "```python\n",
    "donnees = rechercher_oeuvres_wikidata(\"nuit\") #mot-test choisi = nuit\n",
    "\n",
    "table_requete = donnees[\"results\"][\"bindings\"]\n",
    "\n",
    "#voici à quoi ressemble une observation de notre table résultat :\n",
    "print(table_requete[0])\n",
    "\n",
    "noms_oeuvres = []\n",
    "#Observons la répartition du type d'oeuvre\n",
    "repartition = {}\n",
    "for item in table_requete:\n",
    "    type_oeuvre = item[\"typeLabel\"][\"value\"]\n",
    "    repartition[type_oeuvre] = repartition.get(type_oeuvre, 0) + 1\n",
    "    noms_oeuvres.append(item['oeuvreLabel']['value'])\n",
    "    if 'http://www.wikidata.org/entity/' + item[\"oeuvre\"][\"value\"] == \"http://www.wikidata.org/entity/Q45585\":\n",
    "        print(item['oeuvreLabel']['value'])\n",
    "\n",
    "print(repartition)\n",
    "#print(repartition.items())\n",
    "top_5 = dict(sorted(repartition.items(), key=lambda x: x[1], reverse=True)[0:5])\n",
    "print(top_5)\n",
    "#print(sorted(repartition.items(), key=lambda x: x[1], reverse=True))\n",
    "print(\"Voyage au bout de la nuit\" in noms_oeuvres)\n",
    "print(\"La Nuit étoilée\" in noms_oeuvres)\n",
    "print(\"Le Songe d'une nuit d'été\" in noms_oeuvres)\n",
    "```"
   ]
  },
  {
   "cell_type": "markdown",
   "id": "ea773b48-a916-4e3e-873b-308a974ce725",
   "metadata": {},
   "source": [
    "## Dimensions sociale"
   ]
  },
  {
   "cell_type": "markdown",
   "id": "6f1707b4-1ecc-4c08-8794-c4bd69d05726",
   "metadata": {},
   "source": [
    "En commençant nos recherches, nous nous rendons compte que dans beaucoup de cas, le scraping n'est pas légal et l'utilisation d'API restreinte sur de nombreuses plateformes tels que Twitter. Avoir la possibilité de récupérer des données depuis [Reddit](https://www.reddit.com/dev/api/) serait déjà beaucoup.\n",
    "\n",
    "Voilà notre modèle \n",
    "[Google Books Ngram Viewer](https://books.google.com/ngrams/graph?content=incandescent&year_start=1800&year_end=2022&corpus=fr&smoothing=3)\n",
    "qui présente l'évolution dans le temps de l'usage d'un mot.\n",
    "\n",
    "![Google Books Ngram Viewer : mot \"incandescent\"](docs/google_books_ngram_viewer_incandescent.png)\n",
    "Nous souhaitons faire la même figure avec des réseaux sociaux."
   ]
  },
  {
   "cell_type": "markdown",
   "id": "5edd0aff-e317-4558-9d9b-f9e64d3afc69",
   "metadata": {},
   "source": [
    "## Données Reddit"
   ]
  },
  {
   "cell_type": "markdown",
   "id": "a12a9c5e-ee70-442d-a177-06c83562631f",
   "metadata": {
    "jp-MarkdownHeadingCollapsed": true
   },
   "source": [
    "Voici les étapes que nous avons suivi pour utiliser l'API de Reddit\n",
    "\n",
    "- Créer une application : [Créer une application Reddit pour développeur](https://www.reddit.com/prefs/apps/)\n",
    "- Créer un fichier .env qui contient :\n",
    "```bash\n",
    "CLIENT_ID={identifiant de l application}\n",
    "CLIENT_SECRET={secret de l application}\n",
    "USER_AGENT=script:{nom de l application}:v1.0 (by u/{nom du profil reddit})\n",
    "```\n",
    "Cela évitera à Git de versionner notre fichier .env dans GitHub et de dévoiler nos codes d'application\n",
    "- installer la libraririe python\n",
    "> PRAW, an acronym for \"Python Reddit API Wrapper\", is a Python package that allows for simple access to Reddit's API. PRAW aims to be easy to use and internally follows all of Reddit's API rules. "
   ]
  },
  {
   "cell_type": "code",
   "execution_count": 8,
   "id": "6e9de770-26d0-4bd4-908b-22fbedd2a288",
   "metadata": {},
   "outputs": [],
   "source": [
    "%%capture\n",
    "pip install praw"
   ]
  },
  {
   "cell_type": "markdown",
   "id": "7960842f-b905-40e5-bab3-7c355d4f782e",
   "metadata": {},
   "source": [
    "- [Page Github de la librarire PRAW](https://github.com/praw-dev/praw)\n",
    "- [Documentation d'utilisation de l'API Reddit](https://praw.readthedocs.io/en/stable/code_overview/models/subreddit.html) \n",
    "\n",
    "![Reddit documentation : fonctionnement de la fonction search](docs/reddit_documentation_search.png)"
   ]
  },
  {
   "cell_type": "markdown",
   "id": "d93938b5-02d2-4e92-8bbb-17f301ed45ef",
   "metadata": {},
   "source": [
    "L'utilisation de l'API Reddit fonctionne et est la méthode la plus efficace pour récupérer les tops posts contenant le mot d'entrée et l'exporter en csv"
   ]
  },
  {
   "cell_type": "markdown",
   "id": "bfc21e34-11cf-4237-ace9-1f3e2c4ed6ef",
   "metadata": {},
   "source": [
    "```python\n",
    "import praw\n",
    "import pandas as pd\n",
    "import os\n",
    "from dotenv import load_dotenv\n",
    "\n",
    "load_dotenv()  # Charge les variables depuis .env\n",
    "\n",
    "#https://www.reddit.com/prefs/apps/\n",
    "reddit = praw.Reddit(\n",
    "    client_id=os.getenv(\"CLIENT_ID\"),\n",
    "    client_secret=os.getenv(\"CLIENT_SECRET\"),\n",
    "    user_agent=os.getenv(\"USER_AGENT\")\n",
    ")\n",
    "\n",
    "#documentation : https://praw.readthedocs.io/en/stable/code_overview/models/subreddit.html\n",
    "\n",
    "#rechercher des posts Reddit contenant le mot\n",
    "# mot = \"créativité\"\n",
    "submissions = reddit.subreddit(\"all\").search(mot, sort=\"hot\", limit=100) #voir image documentation\n",
    "\n",
    "#...et récupération des données dans un dataframe pandas\n",
    "donnees = []\n",
    "for post in submissions:\n",
    "    donnees.append({\n",
    "        \"titre\": post.title,\n",
    "        \"texte\": post.selftext,\n",
    "        \"subreddit\": post.subreddit.display_name,\n",
    "        \"score\": post.score,\n",
    "        \"date\": pd.to_datetime(post.created_utc, unit=\"s\")\n",
    "    })\n",
    "\n",
    "df = pd.DataFrame(donnees)\n",
    "df.to_csv(f\"data/reddit_top_posts_avec_mot.csv\")\n",
    "```\n",
    "\n",
    "(voir `reddit_via_api.py`, qui ne sera pas utilisé dans la génération du excel mais dispnible dans le repository github)"
   ]
  },
  {
   "cell_type": "markdown",
   "id": "556f3f92-f499-489e-adcf-d2cead8dba44",
   "metadata": {},
   "source": [
    "Cependant, nous préférons, et ce pour des raisons de simplicité d'usage, de reproductibilité et d'autonomie vis-à-vis des services propriétaires, opter pour une solution ne nécessitant aucun identifiant d'API. En effet, l'utilisation de l'API Reddit officielle fonctionne bien, mais implique la création d'une application, la gestion de clés secrètes, et parfois des limites de requêtes ou des erreurs d'authentification (403, 429).\n",
    "\n",
    "Une alternative efficace consiste à utiliser un jeu de données librement accessible, tel que le fichier CSV hébergé sur GitHub : [reddit-top-2.5-million / france.csv](https://raw.githubusercontent.com/umbrae/reddit-top-2.5-million/master/data/france.csv). Ce fichier contient les publications les plus populaires du subreddit r/france, ce qui permet de mener les mêmes opérations d'analyse : recherche d'occurrence d'un mot, calcul de fréquence tout cela sans faire appel à une API ou à une authentification tierce.\n",
    "\n",
    "Le compromis réside dans la restriction thématique et temporelle : nous limitons nos analyses au seul subreddit r/france et aux publications populaires entre 2008 et 2015, ce qui peut biaiser l'étude de phénomènes récents. Néanmoins, cette approche a l'avantage de fonctionner de manière rapide, stable, et entièrement en local.\n",
    "\n",
    "Mais rien n'empêche d'ailleurs d'actualiser ce jeu de données : il est possible de créer soi-même un corpus Reddit via l'API ou de combiner plusieurs subreddits pertinents pour enrichir l'analyse. L'architecture du script est conçue pour rester modulaire, et permettre de remplacer facilement la source des données."
   ]
  },
  {
   "cell_type": "code",
   "execution_count": 9,
   "id": "6a78bff8-0e9c-46d4-bc18-40d55b8e1613",
   "metadata": {},
   "outputs": [
    {
     "data": {
      "text/html": [
       "<div>\n",
       "<style scoped>\n",
       "    .dataframe tbody tr th:only-of-type {\n",
       "        vertical-align: middle;\n",
       "    }\n",
       "\n",
       "    .dataframe tbody tr th {\n",
       "        vertical-align: top;\n",
       "    }\n",
       "\n",
       "    .dataframe thead th {\n",
       "        text-align: right;\n",
       "    }\n",
       "</style>\n",
       "<table border=\"1\" class=\"dataframe\">\n",
       "  <thead>\n",
       "    <tr style=\"text-align: right;\">\n",
       "      <th></th>\n",
       "      <th>created_utc</th>\n",
       "      <th>id</th>\n",
       "      <th>title</th>\n",
       "      <th>ups</th>\n",
       "      <th>downs</th>\n",
       "      <th>permalink</th>\n",
       "      <th>selftext</th>\n",
       "      <th>annee</th>\n",
       "    </tr>\n",
       "  </thead>\n",
       "  <tbody>\n",
       "    <tr>\n",
       "      <th>0</th>\n",
       "      <td>1.374528e+09</td>\n",
       "      <td>1iu8lq</td>\n",
       "      <td>France fuck ouais !</td>\n",
       "      <td>395</td>\n",
       "      <td>60</td>\n",
       "      <td>http://www.reddit.com/r/france/comments/1iu8lq...</td>\n",
       "      <td>NaN</td>\n",
       "      <td>2013</td>\n",
       "    </tr>\n",
       "    <tr>\n",
       "      <th>1</th>\n",
       "      <td>1.345977e+09</td>\n",
       "      <td>yuk2o</td>\n",
       "      <td>Je ne peux pas m'empêcher...</td>\n",
       "      <td>347</td>\n",
       "      <td>80</td>\n",
       "      <td>http://www.reddit.com/r/france/comments/yuk2o/...</td>\n",
       "      <td>NaN</td>\n",
       "      <td>2012</td>\n",
       "    </tr>\n",
       "    <tr>\n",
       "      <th>2</th>\n",
       "      <td>1.366299e+09</td>\n",
       "      <td>1clzj7</td>\n",
       "      <td>Une petite différence assez importante...</td>\n",
       "      <td>287</td>\n",
       "      <td>36</td>\n",
       "      <td>http://www.reddit.com/r/france/comments/1clzj7...</td>\n",
       "      <td>NaN</td>\n",
       "      <td>2013</td>\n",
       "    </tr>\n",
       "    <tr>\n",
       "      <th>3</th>\n",
       "      <td>1.352949e+09</td>\n",
       "      <td>137wp4</td>\n",
       "      <td>Mon ami à New York</td>\n",
       "      <td>267</td>\n",
       "      <td>41</td>\n",
       "      <td>http://www.reddit.com/r/france/comments/137wp4...</td>\n",
       "      <td>NaN</td>\n",
       "      <td>2012</td>\n",
       "    </tr>\n",
       "    <tr>\n",
       "      <th>4</th>\n",
       "      <td>1.360585e+09</td>\n",
       "      <td>18b02o</td>\n",
       "      <td>À table !</td>\n",
       "      <td>253</td>\n",
       "      <td>35</td>\n",
       "      <td>http://www.reddit.com/r/france/comments/18b02o...</td>\n",
       "      <td>NaN</td>\n",
       "      <td>2013</td>\n",
       "    </tr>\n",
       "    <tr>\n",
       "      <th>...</th>\n",
       "      <td>...</td>\n",
       "      <td>...</td>\n",
       "      <td>...</td>\n",
       "      <td>...</td>\n",
       "      <td>...</td>\n",
       "      <td>...</td>\n",
       "      <td>...</td>\n",
       "      <td>...</td>\n",
       "    </tr>\n",
       "    <tr>\n",
       "      <th>995</th>\n",
       "      <td>1.357166e+09</td>\n",
       "      <td>15unaf</td>\n",
       "      <td>Public Cervix Announcement pour les redditrice...</td>\n",
       "      <td>26</td>\n",
       "      <td>4</td>\n",
       "      <td>http://www.reddit.com/r/france/comments/15unaf...</td>\n",
       "      <td>NaN</td>\n",
       "      <td>2013</td>\n",
       "    </tr>\n",
       "    <tr>\n",
       "      <th>996</th>\n",
       "      <td>1.354720e+09</td>\n",
       "      <td>14bot3</td>\n",
       "      <td>L'hiver sera rude à l'UMP</td>\n",
       "      <td>38</td>\n",
       "      <td>14</td>\n",
       "      <td>http://www.reddit.com/r/france/comments/14bot3...</td>\n",
       "      <td>NaN</td>\n",
       "      <td>2012</td>\n",
       "    </tr>\n",
       "    <tr>\n",
       "      <th>997</th>\n",
       "      <td>1.354651e+09</td>\n",
       "      <td>14a0oc</td>\n",
       "      <td>\"Le travail disparait, et c'est ce qu'on voula...</td>\n",
       "      <td>27</td>\n",
       "      <td>5</td>\n",
       "      <td>http://www.reddit.com/r/france/comments/14a0oc...</td>\n",
       "      <td>NaN</td>\n",
       "      <td>2012</td>\n",
       "    </tr>\n",
       "    <tr>\n",
       "      <th>998</th>\n",
       "      <td>1.352474e+09</td>\n",
       "      <td>12wykz</td>\n",
       "      <td>Joseph Gordon Levitt qui chante du Brel</td>\n",
       "      <td>28</td>\n",
       "      <td>5</td>\n",
       "      <td>http://www.reddit.com/r/france/comments/12wykz...</td>\n",
       "      <td>NaN</td>\n",
       "      <td>2012</td>\n",
       "    </tr>\n",
       "    <tr>\n",
       "      <th>999</th>\n",
       "      <td>1.351937e+09</td>\n",
       "      <td>12k5hh</td>\n",
       "      <td>Xavier Niel voit rouge</td>\n",
       "      <td>33</td>\n",
       "      <td>9</td>\n",
       "      <td>http://www.reddit.com/r/france/comments/12k5hh...</td>\n",
       "      <td>NaN</td>\n",
       "      <td>2012</td>\n",
       "    </tr>\n",
       "  </tbody>\n",
       "</table>\n",
       "<p>1000 rows × 8 columns</p>\n",
       "</div>"
      ],
      "text/plain": [
       "      created_utc      id                                              title  \\\n",
       "0    1.374528e+09  1iu8lq                                France fuck ouais !   \n",
       "1    1.345977e+09   yuk2o                       Je ne peux pas m'empêcher...   \n",
       "2    1.366299e+09  1clzj7          Une petite différence assez importante...   \n",
       "3    1.352949e+09  137wp4                                 Mon ami à New York   \n",
       "4    1.360585e+09  18b02o                                          À table !   \n",
       "..            ...     ...                                                ...   \n",
       "995  1.357166e+09  15unaf  Public Cervix Announcement pour les redditrice...   \n",
       "996  1.354720e+09  14bot3                          L'hiver sera rude à l'UMP   \n",
       "997  1.354651e+09  14a0oc  \"Le travail disparait, et c'est ce qu'on voula...   \n",
       "998  1.352474e+09  12wykz           Joseph Gordon Levitt qui chante du Brel    \n",
       "999  1.351937e+09  12k5hh                             Xavier Niel voit rouge   \n",
       "\n",
       "     ups  downs                                          permalink selftext  \\\n",
       "0    395     60  http://www.reddit.com/r/france/comments/1iu8lq...      NaN   \n",
       "1    347     80  http://www.reddit.com/r/france/comments/yuk2o/...      NaN   \n",
       "2    287     36  http://www.reddit.com/r/france/comments/1clzj7...      NaN   \n",
       "3    267     41  http://www.reddit.com/r/france/comments/137wp4...      NaN   \n",
       "4    253     35  http://www.reddit.com/r/france/comments/18b02o...      NaN   \n",
       "..   ...    ...                                                ...      ...   \n",
       "995   26      4  http://www.reddit.com/r/france/comments/15unaf...      NaN   \n",
       "996   38     14  http://www.reddit.com/r/france/comments/14bot3...      NaN   \n",
       "997   27      5  http://www.reddit.com/r/france/comments/14a0oc...      NaN   \n",
       "998   28      5  http://www.reddit.com/r/france/comments/12wykz...      NaN   \n",
       "999   33      9  http://www.reddit.com/r/france/comments/12k5hh...      NaN   \n",
       "\n",
       "     annee  \n",
       "0     2013  \n",
       "1     2012  \n",
       "2     2013  \n",
       "3     2012  \n",
       "4     2013  \n",
       "..     ...  \n",
       "995   2013  \n",
       "996   2012  \n",
       "997   2012  \n",
       "998   2012  \n",
       "999   2012  \n",
       "\n",
       "[1000 rows x 8 columns]"
      ]
     },
     "execution_count": 9,
     "metadata": {},
     "output_type": "execute_result"
    }
   ],
   "source": [
    "import pandas as pd\n",
    "\n",
    "# URL du fichier CSV sur GitHub\n",
    "url = \"https://raw.githubusercontent.com/umbrae/reddit-top-2.5-million/master/data/france.csv\"\n",
    "\n",
    "# Lire le fichier CSV directement depuis l'URL\n",
    "df = pd.read_csv(url)\n",
    "\n",
    "df[\"annee\"] = pd.to_datetime(df[\"created_utc\"], unit=\"s\", utc=True, errors='coerce').dt.year #conversion objet temps puis extraction de l'année\n",
    "\n",
    "#suppression des colonnes inutiles\n",
    "#df.columns\n",
    "df = df[['created_utc', 'id', 'title', 'ups', 'downs', 'permalink', 'selftext', 'annee']]\n",
    "\n",
    "df"
   ]
  },
  {
   "cell_type": "code",
   "execution_count": 10,
   "id": "525517b2-8f45-4405-bcf7-d11c26aef07f",
   "metadata": {},
   "outputs": [
    {
     "data": {
      "text/html": [
       "<div>\n",
       "<style scoped>\n",
       "    .dataframe tbody tr th:only-of-type {\n",
       "        vertical-align: middle;\n",
       "    }\n",
       "\n",
       "    .dataframe tbody tr th {\n",
       "        vertical-align: top;\n",
       "    }\n",
       "\n",
       "    .dataframe thead th {\n",
       "        text-align: right;\n",
       "    }\n",
       "</style>\n",
       "<table border=\"1\" class=\"dataframe\">\n",
       "  <thead>\n",
       "    <tr style=\"text-align: right;\">\n",
       "      <th></th>\n",
       "      <th>created_utc</th>\n",
       "      <th>id</th>\n",
       "      <th>title</th>\n",
       "      <th>ups</th>\n",
       "      <th>downs</th>\n",
       "      <th>permalink</th>\n",
       "      <th>selftext</th>\n",
       "      <th>annee</th>\n",
       "    </tr>\n",
       "  </thead>\n",
       "  <tbody>\n",
       "    <tr>\n",
       "      <th>110</th>\n",
       "      <td>1.366224e+09</td>\n",
       "      <td>1cjslk</td>\n",
       "      <td>[Piqûre de rappel pour /r/France]</td>\n",
       "      <td>92</td>\n",
       "      <td>9</td>\n",
       "      <td>http://www.reddit.com/r/france/comments/1cjslk...</td>\n",
       "      <td>Chères grenouilles,\\n\\ndernièrement quelques v...</td>\n",
       "      <td>2013</td>\n",
       "    </tr>\n",
       "    <tr>\n",
       "      <th>117</th>\n",
       "      <td>1.370253e+09</td>\n",
       "      <td>1fkmau</td>\n",
       "      <td>Témoignage : ma gynécomastie</td>\n",
       "      <td>103</td>\n",
       "      <td>22</td>\n",
       "      <td>http://www.reddit.com/r/france/comments/1fkmau...</td>\n",
       "      <td>Bonjour à tous.\\n\\nCeci est mon premier post s...</td>\n",
       "      <td>2013</td>\n",
       "    </tr>\n",
       "    <tr>\n",
       "      <th>146</th>\n",
       "      <td>1.355826e+09</td>\n",
       "      <td>151op7</td>\n",
       "      <td>Alors Gérard, t'as les boules?</td>\n",
       "      <td>98</td>\n",
       "      <td>26</td>\n",
       "      <td>http://www.reddit.com/r/france/comments/151op7...</td>\n",
       "      <td>(Je poste parce que j'ai eu du mal a trouver l...</td>\n",
       "      <td>2012</td>\n",
       "    </tr>\n",
       "    <tr>\n",
       "      <th>174</th>\n",
       "      <td>1.364244e+09</td>\n",
       "      <td>1azuk8</td>\n",
       "      <td>C'est quoi le problème avec le mariage pour to...</td>\n",
       "      <td>83</td>\n",
       "      <td>19</td>\n",
       "      <td>http://www.reddit.com/r/france/comments/1azuk8...</td>\n",
       "      <td>D'abord je dois vous dire que je suis Québécoi...</td>\n",
       "      <td>2013</td>\n",
       "    </tr>\n",
       "    <tr>\n",
       "      <th>205</th>\n",
       "      <td>1.349919e+09</td>\n",
       "      <td>11aafd</td>\n",
       "      <td>Subreddits : lemonde, rue89 et lefigaro</td>\n",
       "      <td>69</td>\n",
       "      <td>10</td>\n",
       "      <td>http://www.reddit.com/r/france/comments/11aafd...</td>\n",
       "      <td>Bonjour,\\n\\n\\nsuite à une énième discussion su...</td>\n",
       "      <td>2012</td>\n",
       "    </tr>\n",
       "    <tr>\n",
       "      <th>306</th>\n",
       "      <td>1.334575e+09</td>\n",
       "      <td>sc8f9</td>\n",
       "      <td>Easter Egg sur le site de François Bayrou</td>\n",
       "      <td>55</td>\n",
       "      <td>6</td>\n",
       "      <td>http://www.reddit.com/r/france/comments/sc8f9/...</td>\n",
       "      <td>* Allez sur [le site de François Bayrou](http:...</td>\n",
       "      <td>2012</td>\n",
       "    </tr>\n",
       "  </tbody>\n",
       "</table>\n",
       "</div>"
      ],
      "text/plain": [
       "      created_utc      id                                              title  \\\n",
       "110  1.366224e+09  1cjslk                  [Piqûre de rappel pour /r/France]   \n",
       "117  1.370253e+09  1fkmau                       Témoignage : ma gynécomastie   \n",
       "146  1.355826e+09  151op7                     Alors Gérard, t'as les boules?   \n",
       "174  1.364244e+09  1azuk8  C'est quoi le problème avec le mariage pour to...   \n",
       "205  1.349919e+09  11aafd            Subreddits : lemonde, rue89 et lefigaro   \n",
       "306  1.334575e+09   sc8f9          Easter Egg sur le site de François Bayrou   \n",
       "\n",
       "     ups  downs                                          permalink  \\\n",
       "110   92      9  http://www.reddit.com/r/france/comments/1cjslk...   \n",
       "117  103     22  http://www.reddit.com/r/france/comments/1fkmau...   \n",
       "146   98     26  http://www.reddit.com/r/france/comments/151op7...   \n",
       "174   83     19  http://www.reddit.com/r/france/comments/1azuk8...   \n",
       "205   69     10  http://www.reddit.com/r/france/comments/11aafd...   \n",
       "306   55      6  http://www.reddit.com/r/france/comments/sc8f9/...   \n",
       "\n",
       "                                              selftext  annee  \n",
       "110  Chères grenouilles,\\n\\ndernièrement quelques v...   2013  \n",
       "117  Bonjour à tous.\\n\\nCeci est mon premier post s...   2013  \n",
       "146  (Je poste parce que j'ai eu du mal a trouver l...   2012  \n",
       "174  D'abord je dois vous dire que je suis Québécoi...   2013  \n",
       "205  Bonjour,\\n\\n\\nsuite à une énième discussion su...   2012  \n",
       "306  * Allez sur [le site de François Bayrou](http:...   2012  "
      ]
     },
     "execution_count": 10,
     "metadata": {},
     "output_type": "execute_result"
    }
   ],
   "source": [
    "#filtrer les lignes où 'selftext' ou 'title' contenant le mot\n",
    "reddit_posts_avec_mot = df[\n",
    "    df['selftext'].dropna().str.contains(mot.lower(), na=False) |\n",
    "    df['title'].str.contains(mot.lower(), na=False)\n",
    "] #rq : selftext contient des navalues qui empêchent le calcul si ces lignes ne sont pas exclus de la recherche sur le contenu des posts\n",
    "\n",
    "reddit_posts_avec_mot"
   ]
  },
  {
   "cell_type": "code",
   "execution_count": 11,
   "id": "b0a224b1-4462-444b-955f-0b41f36b29d7",
   "metadata": {},
   "outputs": [],
   "source": [
    "#exportation csv\n",
    "reddit_posts_avec_mot.to_csv(f\"data/reddit_posts_avec_mot.csv\")"
   ]
  },
  {
   "cell_type": "markdown",
   "id": "36ddc297-b345-4d03-a06c-f60eff84bace",
   "metadata": {},
   "source": [
    "voir `reddit.py` fonction `reddit_posts_avec_mot()` pour le code complet"
   ]
  },
  {
   "cell_type": "markdown",
   "id": "f03330ed-bddb-40df-9999-431cdd6aa484",
   "metadata": {},
   "source": [
    "### Twitter / X"
   ]
  },
  {
   "cell_type": "markdown",
   "id": "60e5bc86-811e-4812-abfb-7a0a1346bd20",
   "metadata": {},
   "source": [
    "L'API v2 de Twitter propose une recherche sur mots-clés. Cependant l'accès nécessite un compte développeur validé et l'accès complet est payant, bien qu'un accès académique peut être demandé pour de la recherche. Nous optons donc pour une option plus simple et ouverte ([cf partie Open Data](#Digression-:-l'Open-Data)), nous optons pour la récupération d'un jeu de données en ligne.\n",
    "Voici le jeu de données avec lequel nous travaillons : [French Tweets For Sentiment Analysis - 1.5 million tweets in French and their sentiment - Kaggle](https://www.kaggle.com/datasets/hbaflast/french-twitter-sentiment-analysis)\n",
    "\n",
    "Nous souhaitons obtenir de ce jeu de données les indicateurs suivants :\n",
    "- Fréquence du mot dans les tweets et\n",
    "- Score de popularité, dont le caclul se fera dans la sous-partie [Score de popularité](#Score-de-popularite) ci-dessous"
   ]
  },
  {
   "cell_type": "markdown",
   "id": "b9f1a0ab-241f-46a0-9656-9ad2968a0113",
   "metadata": {},
   "source": [
    "Au moment du premier commit, nous nous rendons compte que nous ne pouvons pas travailler avec le dataset et le poster tel quel sur Github. En effet, **GitHub refuse tout fichier > 100 Mo** et déconseille les dépôts contenant plusieurs fichiers > 50 Mo. Une prémière opération consiste donc à créer une version diminuée du jeu de données de quelques Mo, passant de 1.5 millions de tweets à 50 000 tweets. Voici le code associé :\n",
    "\n",
    "```python\n",
    "import pandas as pd\n",
    "from unidecode import unidecode\n",
    "\n",
    "# Lire le fichier CSV\n",
    "df = pd.read_csv('data/french_tweets.csv')\n",
    "\n",
    "# renommer avec un nom de colonne plus clair\n",
    "df.rename(columns={\"text\": \"tweets\"}, inplace=True)\n",
    "\n",
    "# Sélectionner la colonne 'tweets' et prendre un echantillon de 50 000 tweets, choisi aléatoirement pour éviter les biais\n",
    "tweets = df['tweets'].apply(unidecode).sample(50000)\n",
    "\n",
    "# Convertir le texte en minuscules\n",
    "tweets = tweets.str.lower()\n",
    "\n",
    "# Exporter en CSV\n",
    "tweets.to_csv('data/french_tweets_mini.csv', index=False)\n",
    "```"
   ]
  },
  {
   "cell_type": "markdown",
   "id": "7a3c5df7-b98b-4541-ad48-f5244d75ce4d",
   "metadata": {},
   "source": [
    "Après observation du dataset, nous observons que beaucoup de personnes écrivent sans accent dans les tweets. Cela peut impacter la fréquence de mot et le score calculé selon la sensibilité à la casse ou le choix de l'encodage. Nous souhaitons donc normaliser (translittération) le mot en entrée et le texte des tweets également avec la librarie unidecode.\n",
    "\n",
    "> Unidecode transliterates any unicode string into the closest possible representation in ascii text\n",
    "\n",
    "En prenant en compte ce facteur, nous pouvons calculer nos indicateurs correctement."
   ]
  },
  {
   "cell_type": "code",
   "execution_count": 12,
   "id": "1772ebb7-7803-42d7-a796-0e7d17b86e55",
   "metadata": {},
   "outputs": [
    {
     "name": "stdout",
     "output_type": "stream",
     "text": [
      "Defaulting to user installation because normal site-packages is not writeable\n",
      "Requirement already satisfied: unicode in c:\\users\\amigr\\appdata\\roaming\\python\\python312\\site-packages (2.9)\n",
      "Note: you may need to restart the kernel to use updated packages.\n"
     ]
    }
   ],
   "source": [
    "pip install unicode"
   ]
  },
  {
   "cell_type": "code",
   "execution_count": 13,
   "id": "fbc5ab2c-1bd3-4b95-9372-585343fee044",
   "metadata": {},
   "outputs": [],
   "source": [
    "import pandas as pd\n",
    "from unidecode import unidecode\n",
    "\n",
    "df = pd.read_csv('data/french_tweets_mini.csv') #le fichier csv a été réduit à 50000 observations pour permettre le stockage sur Github\n",
    "mot_normalise = unidecode(mot.lower()) #Les tweets du fichier csv ont subit les mêmes opérations (unicode + lower)\n",
    "\n",
    "nbr_tweets = df.shape[0]\n",
    "tweets_avec_mot = df[df[\"tweets\"].str.contains(mot_normalise)] \n",
    "\n",
    "tweets_avec_mot.to_csv(\"data/tweets_avec_mot.csv\")"
   ]
  },
  {
   "cell_type": "markdown",
   "id": "8b3b5d94-6fe9-49c5-aa1a-1c1a16c2dcc7",
   "metadata": {},
   "source": [
    "### Score de popularite"
   ]
  },
  {
   "cell_type": "markdown",
   "id": "1906c6c8-3027-413f-a1a0-c04e675691ec",
   "metadata": {},
   "source": [
    "Le calcul du score de popularité se calcule de la manière suivante pour Twitter :\n",
    "\n",
    "Notre premier essai était la règle suivante : si le mot choisi apparaît autant de fois dans les tweets que le nombre de tweets de notre jeu de données, on considère qu'il mérite le score maximum et son score de popularité est alors de 100%. Ensuite, nous avons décidés de réechelonner car nous obtenions des scores trop faibles pour les mots les plus populaires tels que le mot \"**je**\". Puisqu'il est trop coûteux de calculer l'occurence maximale de chaque mot des nombreux tweets différents pour faire des règles relatives, nous décidons d'utiliser la règle suivante :\n",
    "\n",
    "$$\n",
    "\\text{score de popularite}_{\\text{Twitter}} = \\left(\\frac{\\text{fréquence\\_mot\\_tweets}}{\\frac{\\text{nombre\\_tweets}}{2}}\\right) \\times 100\n",
    "$$"
   ]
  },
  {
   "cell_type": "code",
   "execution_count": 14,
   "id": "897bd7e0-ab19-4345-adb6-ac0e3175b050",
   "metadata": {},
   "outputs": [
    {
     "name": "stdout",
     "output_type": "stream",
     "text": [
      "Popularité du mot 'droite' : 0.27 %\n"
     ]
    }
   ],
   "source": [
    "frequence_mot_tweets = tweets_avec_mot.shape[0]\n",
    "#print(nbr_tweets, frequence_mot)\n",
    "\n",
    "#Si le mot choisi apparaît autant de fois dans les tweets que la moitié du nombre de tweets de notre dataset, on considère qu'il mérite le score maximum et son score de popularité est de 100%.\n",
    "score_popularite_twitter = (\n",
    "    (frequence_mot_tweets/ (nbr_tweets/2) )\n",
    "    *100\n",
    ")\n",
    "\n",
    "print(f\"Popularité du mot '{mot}' : {round(score_popularite_twitter, 2)} %\")\n",
    "#exemple : Popularité du mot 'je' : 79.04 %"
   ]
  },
  {
   "cell_type": "markdown",
   "id": "57ee60eb-82ea-4111-aa6c-da18ced486ee",
   "metadata": {},
   "source": [
    "Plutôt que de nous contenter d’un simple taux d'apparition du mot (nombre de posts contenant le mot divisé par le nombre total de posts), nous avons opté pour une approche plus qualitative, fondée sur l’engagement réel des utilisateurs. Sur Reddit, chaque post peut recevoir des upvotes (votes positifs) ou des downvotes (votes négatifs), ce qui permet d’évaluer non seulement la fréquence du mot mais aussi la réception sociale des publications qui le mentionnent.\n",
    "\n",
    "Nous avons donc défini un score de popularité comme le ratio entre le nombre total de upvotes et de downvotes sur l'ensemble des posts contenant le mot :\n",
    "\n",
    "$$\n",
    "\\text{score de popularite}_{\\text{Reddit}} = \\frac{\\sum \\text{ups}}{\\sum \\text{downs}}\n",
    "$$"
   ]
  },
  {
   "cell_type": "markdown",
   "id": "dacf6fd4-9be3-46fd-bce5-e77f04988ce3",
   "metadata": {},
   "source": [
    "Si le taux d'apparition brut (méthode utilisée pour les tweets) ne tient compte ni du contexte, ni de l'impact des publications, notre score basé sur les votes pondère chaque post selon sa réception par la communauté : un mot qui génère peu de publications mais fortement appréciées peut avoir un score élevé. Cela permet de détecter des mots **socialement valorisés**, et non simplement des mots fréquents ou neutres."
   ]
  },
  {
   "cell_type": "code",
   "execution_count": 15,
   "id": "325a1c40-1b2f-416d-8d0b-c62d99da8be5",
   "metadata": {},
   "outputs": [],
   "source": [
    "ups_sum = reddit_posts_avec_mot[\"ups\"].sum()\n",
    "downs_sum = reddit_posts_avec_mot[\"downs\"].sum()\n",
    "\n",
    "if downs_sum != 0: score_popularite_reddit = round(ups_sum / downs_sum, 2)\n",
    "else: score_popularite_reddit = 0.00"
   ]
  },
  {
   "cell_type": "markdown",
   "id": "a307f9d9-7704-42c6-9883-d0daf79d9cf6",
   "metadata": {},
   "source": [
    "Nos deux scores de popularité n'ont pas la même échelle. Puisque nous ne pouvons pas générer de jauge Excel comme nous le souhaitions dans notre schéma d'origine, nous utiliserons seulement un code couleur"
   ]
  },
  {
   "cell_type": "markdown",
   "id": "4f699d20-b34b-4167-86c5-8ea673d9a626",
   "metadata": {},
   "source": [
    "### Exportation du score de popularité"
   ]
  },
  {
   "cell_type": "markdown",
   "id": "fa9a13d0-4cba-48d1-9fda-37376b819649",
   "metadata": {},
   "source": [
    "La fonction `recherche_twitter()` du fichier python `twitter.py` permet ensuite d'exporter le dataframe de la manière suivante"
   ]
  },
  {
   "cell_type": "code",
   "execution_count": 16,
   "id": "c7422b7e-c399-4b08-b2f9-691e173b926b",
   "metadata": {},
   "outputs": [],
   "source": [
    "from exportation_csv import exporter_donnees_csv\n",
    "\n",
    "exporter_donnees_csv(\n",
    "    {\n",
    "        \"mot\":[mot],\n",
    "        \"score_de_popularite_twitter\":[score_popularite_twitter],\n",
    "        \"score_de_popularite_reddit\":[score_popularite_reddit]\n",
    "    },\n",
    "    \"score_de_popularite.csv\"\n",
    ")"
   ]
  },
  {
   "cell_type": "markdown",
   "id": "da9257fa-84f4-49ab-8495-63cb90007c22",
   "metadata": {},
   "source": [
    "## Conclusion dimension sociale"
   ]
  },
  {
   "cell_type": "markdown",
   "id": "f1621fb4-c8d8-41d5-9113-0e8f407e4ff1",
   "metadata": {},
   "source": [
    "Les top tweets et reddit posts enregistrés sous format csv plus haut nous seront utiles pour le verbatim, où nous afficherons des posts choisis au hasard parmi ces deux réseaux sociaux.\n",
    "\n",
    "Voici comment nous appellerons obtiendrons ces données dans le code de notre interface web :"
   ]
  },
  {
   "cell_type": "code",
   "execution_count": 17,
   "id": "202f2c27-7a0b-469a-ad56-396ca774917f",
   "metadata": {},
   "outputs": [
    {
     "data": {
      "text/html": [
       "<div>\n",
       "<style scoped>\n",
       "    .dataframe tbody tr th:only-of-type {\n",
       "        vertical-align: middle;\n",
       "    }\n",
       "\n",
       "    .dataframe tbody tr th {\n",
       "        vertical-align: top;\n",
       "    }\n",
       "\n",
       "    .dataframe thead th {\n",
       "        text-align: right;\n",
       "    }\n",
       "</style>\n",
       "<table border=\"1\" class=\"dataframe\">\n",
       "  <thead>\n",
       "    <tr style=\"text-align: right;\">\n",
       "      <th></th>\n",
       "      <th>tweets</th>\n",
       "    </tr>\n",
       "  </thead>\n",
       "  <tbody>\n",
       "    <tr>\n",
       "      <th>1782</th>\n",
       "      <td>oh a droite, je n'avais pas l'indice d'espoir ...</td>\n",
       "    </tr>\n",
       "    <tr>\n",
       "      <th>3152</th>\n",
       "      <td>melanie votre arrivee a la riviere a droite?</td>\n",
       "    </tr>\n",
       "    <tr>\n",
       "      <th>3342</th>\n",
       "      <td>pauvre doyen! ne semble pas trop bien la ... d...</td>\n",
       "    </tr>\n",
       "    <tr>\n",
       "      <th>3780</th>\n",
       "      <td>j'ai ete frappe sur mon velo. je traversais pa...</td>\n",
       "    </tr>\n",
       "    <tr>\n",
       "      <th>3801</th>\n",
       "      <td>uh oh a l'air de minuit etait a droite encore,...</td>\n",
       "    </tr>\n",
       "    <tr>\n",
       "      <th>...</th>\n",
       "      <td>...</td>\n",
       "    </tr>\n",
       "    <tr>\n",
       "      <th>46163</th>\n",
       "      <td>a le noir et le blues a sa main droite</td>\n",
       "    </tr>\n",
       "    <tr>\n",
       "      <th>49497</th>\n",
       "      <td>j'ai eu mes maillots de bain et mes disques fl...</td>\n",
       "    </tr>\n",
       "    <tr>\n",
       "      <th>49553</th>\n",
       "      <td>oh a droite, j'allais au lit. bonne nuit a tous</td>\n",
       "    </tr>\n",
       "    <tr>\n",
       "      <th>49640</th>\n",
       "      <td>a droite ... allons-y ... un autre jour, encor...</td>\n",
       "    </tr>\n",
       "    <tr>\n",
       "      <th>49804</th>\n",
       "      <td>merci! il se sent bien de commencer la semaine...</td>\n",
       "    </tr>\n",
       "  </tbody>\n",
       "</table>\n",
       "<p>67 rows × 1 columns</p>\n",
       "</div>"
      ],
      "text/plain": [
       "                                                  tweets\n",
       "1782   oh a droite, je n'avais pas l'indice d'espoir ...\n",
       "3152        melanie votre arrivee a la riviere a droite?\n",
       "3342   pauvre doyen! ne semble pas trop bien la ... d...\n",
       "3780   j'ai ete frappe sur mon velo. je traversais pa...\n",
       "3801   uh oh a l'air de minuit etait a droite encore,...\n",
       "...                                                  ...\n",
       "46163             a le noir et le blues a sa main droite\n",
       "49497  j'ai eu mes maillots de bain et mes disques fl...\n",
       "49553    oh a droite, j'allais au lit. bonne nuit a tous\n",
       "49640  a droite ... allons-y ... un autre jour, encor...\n",
       "49804  merci! il se sent bien de commencer la semaine...\n",
       "\n",
       "[67 rows x 1 columns]"
      ]
     },
     "execution_count": 17,
     "metadata": {},
     "output_type": "execute_result"
    }
   ],
   "source": [
    "from twitter import recherche_twitter\n",
    "recherche_twitter(mot)[0] #l'index 1 permet renvoie le nombre d'observations de dataframe original. Cette donnée est utile pour la fonction du score de popularité pour le calcul du score de popularité"
   ]
  },
  {
   "cell_type": "code",
   "execution_count": 18,
   "id": "16afc165-33bb-4343-b6ca-2dfecf25e9c5",
   "metadata": {},
   "outputs": [
    {
     "data": {
      "text/html": [
       "<div>\n",
       "<style scoped>\n",
       "    .dataframe tbody tr th:only-of-type {\n",
       "        vertical-align: middle;\n",
       "    }\n",
       "\n",
       "    .dataframe tbody tr th {\n",
       "        vertical-align: top;\n",
       "    }\n",
       "\n",
       "    .dataframe thead th {\n",
       "        text-align: right;\n",
       "    }\n",
       "</style>\n",
       "<table border=\"1\" class=\"dataframe\">\n",
       "  <thead>\n",
       "    <tr style=\"text-align: right;\">\n",
       "      <th></th>\n",
       "      <th>created_utc</th>\n",
       "      <th>id</th>\n",
       "      <th>title</th>\n",
       "      <th>ups</th>\n",
       "      <th>downs</th>\n",
       "      <th>permalink</th>\n",
       "      <th>selftext</th>\n",
       "      <th>annee</th>\n",
       "    </tr>\n",
       "  </thead>\n",
       "  <tbody>\n",
       "    <tr>\n",
       "      <th>110</th>\n",
       "      <td>1.366224e+09</td>\n",
       "      <td>1cjslk</td>\n",
       "      <td>[Piqûre de rappel pour /r/France]</td>\n",
       "      <td>92</td>\n",
       "      <td>9</td>\n",
       "      <td>http://www.reddit.com/r/france/comments/1cjslk...</td>\n",
       "      <td>Chères grenouilles,\\n\\ndernièrement quelques v...</td>\n",
       "      <td>2013</td>\n",
       "    </tr>\n",
       "    <tr>\n",
       "      <th>117</th>\n",
       "      <td>1.370253e+09</td>\n",
       "      <td>1fkmau</td>\n",
       "      <td>Témoignage : ma gynécomastie</td>\n",
       "      <td>103</td>\n",
       "      <td>22</td>\n",
       "      <td>http://www.reddit.com/r/france/comments/1fkmau...</td>\n",
       "      <td>Bonjour à tous.\\n\\nCeci est mon premier post s...</td>\n",
       "      <td>2013</td>\n",
       "    </tr>\n",
       "    <tr>\n",
       "      <th>146</th>\n",
       "      <td>1.355826e+09</td>\n",
       "      <td>151op7</td>\n",
       "      <td>Alors Gérard, t'as les boules?</td>\n",
       "      <td>98</td>\n",
       "      <td>26</td>\n",
       "      <td>http://www.reddit.com/r/france/comments/151op7...</td>\n",
       "      <td>(Je poste parce que j'ai eu du mal a trouver l...</td>\n",
       "      <td>2012</td>\n",
       "    </tr>\n",
       "    <tr>\n",
       "      <th>174</th>\n",
       "      <td>1.364244e+09</td>\n",
       "      <td>1azuk8</td>\n",
       "      <td>C'est quoi le problème avec le mariage pour to...</td>\n",
       "      <td>83</td>\n",
       "      <td>19</td>\n",
       "      <td>http://www.reddit.com/r/france/comments/1azuk8...</td>\n",
       "      <td>D'abord je dois vous dire que je suis Québécoi...</td>\n",
       "      <td>2013</td>\n",
       "    </tr>\n",
       "    <tr>\n",
       "      <th>205</th>\n",
       "      <td>1.349919e+09</td>\n",
       "      <td>11aafd</td>\n",
       "      <td>Subreddits : lemonde, rue89 et lefigaro</td>\n",
       "      <td>69</td>\n",
       "      <td>10</td>\n",
       "      <td>http://www.reddit.com/r/france/comments/11aafd...</td>\n",
       "      <td>Bonjour,\\n\\n\\nsuite à une énième discussion su...</td>\n",
       "      <td>2012</td>\n",
       "    </tr>\n",
       "    <tr>\n",
       "      <th>306</th>\n",
       "      <td>1.334575e+09</td>\n",
       "      <td>sc8f9</td>\n",
       "      <td>Easter Egg sur le site de François Bayrou</td>\n",
       "      <td>55</td>\n",
       "      <td>6</td>\n",
       "      <td>http://www.reddit.com/r/france/comments/sc8f9/...</td>\n",
       "      <td>* Allez sur [le site de François Bayrou](http:...</td>\n",
       "      <td>2012</td>\n",
       "    </tr>\n",
       "  </tbody>\n",
       "</table>\n",
       "</div>"
      ],
      "text/plain": [
       "      created_utc      id                                              title  \\\n",
       "110  1.366224e+09  1cjslk                  [Piqûre de rappel pour /r/France]   \n",
       "117  1.370253e+09  1fkmau                       Témoignage : ma gynécomastie   \n",
       "146  1.355826e+09  151op7                     Alors Gérard, t'as les boules?   \n",
       "174  1.364244e+09  1azuk8  C'est quoi le problème avec le mariage pour to...   \n",
       "205  1.349919e+09  11aafd            Subreddits : lemonde, rue89 et lefigaro   \n",
       "306  1.334575e+09   sc8f9          Easter Egg sur le site de François Bayrou   \n",
       "\n",
       "     ups  downs                                          permalink  \\\n",
       "110   92      9  http://www.reddit.com/r/france/comments/1cjslk...   \n",
       "117  103     22  http://www.reddit.com/r/france/comments/1fkmau...   \n",
       "146   98     26  http://www.reddit.com/r/france/comments/151op7...   \n",
       "174   83     19  http://www.reddit.com/r/france/comments/1azuk8...   \n",
       "205   69     10  http://www.reddit.com/r/france/comments/11aafd...   \n",
       "306   55      6  http://www.reddit.com/r/france/comments/sc8f9/...   \n",
       "\n",
       "                                              selftext  annee  \n",
       "110  Chères grenouilles,\\n\\ndernièrement quelques v...   2013  \n",
       "117  Bonjour à tous.\\n\\nCeci est mon premier post s...   2013  \n",
       "146  (Je poste parce que j'ai eu du mal a trouver l...   2012  \n",
       "174  D'abord je dois vous dire que je suis Québécoi...   2013  \n",
       "205  Bonjour,\\n\\n\\nsuite à une énième discussion su...   2012  \n",
       "306  * Allez sur [le site de François Bayrou](http:...   2012  "
      ]
     },
     "execution_count": 18,
     "metadata": {},
     "output_type": "execute_result"
    }
   ],
   "source": [
    "from reddit import posts_reddit_r_france\n",
    "posts_reddit_r_france(mot)"
   ]
  },
  {
   "cell_type": "code",
   "execution_count": 19,
   "id": "ce7a42d9-845f-440b-b3b2-2fb4ae518323",
   "metadata": {},
   "outputs": [
    {
     "name": "stdout",
     "output_type": "stream",
     "text": [
      "Popularité du mot 'droite' sur Twitter : 0.27 %\n",
      "Popularité du mot 'droite' sur Reddit : 5.43 %\n"
     ]
    }
   ],
   "source": [
    "from score_de_popularite import calcul_score_de_popularite\n",
    "calcul_score_de_popularite(mot)"
   ]
  },
  {
   "cell_type": "markdown",
   "id": "85a303cd-a890-4be5-9a80-897466cb8e5b",
   "metadata": {},
   "source": [
    "## Dimension médiatique"
   ]
  },
  {
   "cell_type": "markdown",
   "id": "30fcde36-b515-49ac-a458-111f9cb818d1",
   "metadata": {},
   "source": [
    "Les flux RSS offrent une alternative libre et ouverte pour recueillir des contenus médiatiques, tout en respectant l’architecture publique des sites d’actualités. Ils sont particulièrement adaptés à une veille continue et structurée autour de mots-clés ou thématiques spécifiques.\n",
    "\n",
    "Il est écrit sur Wikipedia :\n",
    "\n",
    "> Un flux RSS est créé à partir d'une page Web statique ou d'une base de données convertie en fichier XML à l'aide d'un script approprié.\n",
    "\n",
    "> Généralement, un flux RSS contient un titre (souvent celui d'un article), une description de l'article, et un lien vers le site concerné.\n",
    "\n",
    "La portée temporelle d’un flux RSS est en général limitée aux derniers articles publiés, souvent entre 20 et 50 entrées selon le média. Cela signifie que les flux permettent d’interroger une actualité immédiate, plutôt qu’un historique profond. Ceci nous fait dire que notre dernier graphique n'est pas très pertinent parce que un mot en général n'apparaît pas souvent dans les articles du jour, même pour les sujets chauds."
   ]
  },
  {
   "cell_type": "markdown",
   "id": "82d299a1-ec34-4671-91e4-d53d6d127d90",
   "metadata": {},
   "source": [
    "Voici un [atlas des flux RSS français](https://atlasflux.saynete.net/atlas_des_flux_rss_fra_media.htm) dans lequel nous piochons. Les flux RSS possèdent tous la même structure. Il est donc simple de récupérer les informations souhaitées provenant de plusieurs sources différentes sans ne créer d'exceptions"
   ]
  },
  {
   "cell_type": "code",
   "execution_count": 20,
   "id": "a82d623d-37ca-45cc-85b2-8aba84d4cf60",
   "metadata": {},
   "outputs": [],
   "source": [
    "%%capture\n",
    "pip install feedparser"
   ]
  },
  {
   "cell_type": "code",
   "execution_count": 21,
   "id": "97b72b54-6d36-4de6-b3ca-02e5bde97538",
   "metadata": {},
   "outputs": [
    {
     "data": {
      "text/html": [
       "<div>\n",
       "<style scoped>\n",
       "    .dataframe tbody tr th:only-of-type {\n",
       "        vertical-align: middle;\n",
       "    }\n",
       "\n",
       "    .dataframe tbody tr th {\n",
       "        vertical-align: top;\n",
       "    }\n",
       "\n",
       "    .dataframe thead th {\n",
       "        text-align: right;\n",
       "    }\n",
       "</style>\n",
       "<table border=\"1\" class=\"dataframe\">\n",
       "  <thead>\n",
       "    <tr style=\"text-align: right;\">\n",
       "      <th></th>\n",
       "      <th>titre</th>\n",
       "      <th>date</th>\n",
       "      <th>description</th>\n",
       "      <th>lien</th>\n",
       "      <th>annee</th>\n",
       "    </tr>\n",
       "  </thead>\n",
       "  <tbody>\n",
       "    <tr>\n",
       "      <th>0</th>\n",
       "      <td>L’hebdomadaire antisémite « Rivarol » au bord ...</td>\n",
       "      <td>Fri, 13 Jun 2025 15:00:00 +0200</td>\n",
       "      <td>Titre historique de l’extrême droite d’après-g...</td>\n",
       "      <td>https://www.lemonde.fr/politique/article/2025/...</td>\n",
       "      <td>2025.0</td>\n",
       "    </tr>\n",
       "    <tr>\n",
       "      <th>1</th>\n",
       "      <td>En Espagne, une constellation poreuse d’influe...</td>\n",
       "      <td>Thu, 12 Jun 2025 05:00:03 +0200</td>\n",
       "      <td>« L’essor des médias réactionnaires en Europe ...</td>\n",
       "      <td>https://www.lemonde.fr/economie/article/2025/0...</td>\n",
       "      <td>2025.0</td>\n",
       "    </tr>\n",
       "    <tr>\n",
       "      <th>2</th>\n",
       "      <td>Aux Pays-Bas, la chaîne ON ! est soutenue par ...</td>\n",
       "      <td>Wed, 11 Jun 2025 14:30:03 +0200</td>\n",
       "      <td>« L’essor des médias réactionnaires en Europe ...</td>\n",
       "      <td>https://www.lemonde.fr/economie/article/2025/0...</td>\n",
       "      <td>2025.0</td>\n",
       "    </tr>\n",
       "    <tr>\n",
       "      <th>3</th>\n",
       "      <td>En Pologne, une galaxie de médias ultraconserv...</td>\n",
       "      <td>Tue, 10 Jun 2025 16:30:08 +0200</td>\n",
       "      <td>« L’essor des médias réactionnaires en Europe ...</td>\n",
       "      <td>https://www.lemonde.fr/economie/article/2025/0...</td>\n",
       "      <td>2025.0</td>\n",
       "    </tr>\n",
       "    <tr>\n",
       "      <th>4</th>\n",
       "      <td>Louis Sarkozy, Napo baby</td>\n",
       "      <td>Tue, 13 May 2025 13:35:00 +0000</td>\n",
       "      <td>Admirateur de Napoléon, le fils de l’ancien pr...</td>\n",
       "      <td>https://www.liberation.fr/portraits/louis-sark...</td>\n",
       "      <td>2025.0</td>\n",
       "    </tr>\n",
       "  </tbody>\n",
       "</table>\n",
       "</div>"
      ],
      "text/plain": [
       "                                               titre  \\\n",
       "0  L’hebdomadaire antisémite « Rivarol » au bord ...   \n",
       "1  En Espagne, une constellation poreuse d’influe...   \n",
       "2  Aux Pays-Bas, la chaîne ON ! est soutenue par ...   \n",
       "3  En Pologne, une galaxie de médias ultraconserv...   \n",
       "4                           Louis Sarkozy, Napo baby   \n",
       "\n",
       "                              date  \\\n",
       "0  Fri, 13 Jun 2025 15:00:00 +0200   \n",
       "1  Thu, 12 Jun 2025 05:00:03 +0200   \n",
       "2  Wed, 11 Jun 2025 14:30:03 +0200   \n",
       "3  Tue, 10 Jun 2025 16:30:08 +0200   \n",
       "4  Tue, 13 May 2025 13:35:00 +0000   \n",
       "\n",
       "                                         description  \\\n",
       "0  Titre historique de l’extrême droite d’après-g...   \n",
       "1  « L’essor des médias réactionnaires en Europe ...   \n",
       "2  « L’essor des médias réactionnaires en Europe ...   \n",
       "3  « L’essor des médias réactionnaires en Europe ...   \n",
       "4  Admirateur de Napoléon, le fils de l’ancien pr...   \n",
       "\n",
       "                                                lien   annee  \n",
       "0  https://www.lemonde.fr/politique/article/2025/...  2025.0  \n",
       "1  https://www.lemonde.fr/economie/article/2025/0...  2025.0  \n",
       "2  https://www.lemonde.fr/economie/article/2025/0...  2025.0  \n",
       "3  https://www.lemonde.fr/economie/article/2025/0...  2025.0  \n",
       "4  https://www.liberation.fr/portraits/louis-sark...  2025.0  "
      ]
     },
     "execution_count": 21,
     "metadata": {},
     "output_type": "execute_result"
    }
   ],
   "source": [
    "import feedparser\n",
    "import pandas as pd\n",
    "\n",
    "def filtrer_articles_rss(url_flux, mot):\n",
    "    # Lecture du flux\n",
    "    flux = feedparser.parse(url_flux)\n",
    "    \n",
    "    # Liste pour stocker les articles filtrés\n",
    "    articles = []\n",
    "\n",
    "    # Parcours des articles\n",
    "    \n",
    "    #Les flux RSS possèdent tous la même structure\n",
    "    #Il est donc simple de récupérer les informations souhaitées provenant de plusieurs sources différentes sans ne créer d'exception\n",
    "    for entree in flux.entries:\n",
    "        #documentation W3C > The get() method returns the value of the item with the specified key + Optional : a value to return if the specified key does not exist.\n",
    "        titre = entree.get(\"title\", \"\")\n",
    "        description = entree.get(\"description\", \"\")\n",
    "        if (mot.lower() in titre.lower()) or (mot.lower() in description.lower()):\n",
    "            articles.append({\n",
    "                \"titre\": titre,\n",
    "                \"date\": entree.get(\"published\", \"\"),\n",
    "                \"description\": description,\n",
    "                \"lien\": entree.get(\"link\", \"\")\n",
    "            })\n",
    "\n",
    "    return pd.DataFrame(articles)\n",
    "\n",
    "flux_list = [    \n",
    "    #depuis la liste initiale\n",
    "    \"https://www.lemonde.fr/actualite-medias/rss_full.xml\", #Le Monde #validé \"france\"\n",
    "    \"https://www.lemonde.fr/culture/rss_full.xml\", #Le Monde \n",
    "    \"https://www.liberation.fr/arc/outboundfeeds/rss/category/economie/medias/?outputType=xml\", #Libération #validé \"france\"\n",
    "    \"https://www.lefigaro.fr/rss/figaro_medias.xml\", #Le Figaro #validé \"france\"\n",
    "    \"https://bsky.app/profile/did:plc:2egpzsea27fru2vkrjgdw2ob/rss\", #MediaPart\n",
    "    #Le monde diplomatique\n",
    "    \"https://www.courrierinternational.com/feed/rubrique/ecrans/rss.xml\", #Courrier international #validé \"france\"\n",
    "    #Huffington Post\n",
    "    #Canard Enchaîné\n",
    "    \"https://www.humanite.fr/sections/medias/feed\", #L'humanité #validé \"france\"\n",
    "    \"https://www.nouvelobs.com/rss.xml\",  #L'obs #validé \"ukraine\"\n",
    "\n",
    "    #Autres\n",
    "    \"https://www.afp.com/fr/rss.xml\", #AFP #validé \"le\"\n",
    "\n",
    "    #Nous demandons ensuite à un LLM d'en générer le maximum sans ne regarder un par un la validité des liens\n",
    "    # Culture, musique, littérature\n",
    "    \"https://actualitte.com/feed\",                          # ActuaLitté (littérature)\n",
    "    \"https://www.lesinrocks.com/musique/feed/\",             # Les Inrocks Musique\n",
    "    \"https://www.rollingstone.fr/feed/\",                    # Rolling Stone France\n",
    "    \"https://www.telerama.fr/rss.xml\",                      # Télérama\n",
    "    \"https://www.franceculture.fr/rss.xml\",                 # France Culture\n",
    "\n",
    "    # Sciences humaines et philo\n",
    "    \"https://www.philomag.com/rss.xml\",                     # Philosophie Magazine\n",
    "    \"https://www.scienceshumaines.com/rss.xml\",             # Sciences Humaines\n",
    "\n",
    "    # Autres journaux généralistes\n",
    "    \"https://www.francetvinfo.fr/titres.rss\",               # France Info\n",
    "    \"https://www.radiofrance.fr/podcasts\",                  # Radio France\n",
    "    \"https://www.ouest-france.fr/rss-en-continu.xml\",       # Ouest-France\n",
    "    \"https://www.sudouest.fr/rss.xml\",                      # Sud-Ouest\n",
    "    \"https://www.ladepeche.fr/rss.xml\",                     # La Dépêche\n",
    "    \"https://www.midilibre.fr/rss.xml\",                     # Midi Libre\n",
    "    \"https://www.lavoixdunord.fr/rss.xml\",                  # La Voix du Nord\n",
    "    \"https://www.nicematin.com/rss\",                        # Nice Matin\n",
    "    \"https://www.20minutes.fr/rss/actu-france.xml\",         # 20 Minutes\n",
    "    \"https://www.france24.com/fr/rss\",                      # France 24\n",
    "\n",
    "    # Médias alternatifs et indépendants\n",
    "    \"https://www.bastamag.net/spip.php?page=backend\",       # Basta!\n",
    "    \"https://www.arretsurimages.net/rss/articles\",          # Arrêt sur Images\n",
    "    \"https://www.acrimed.org/spip.php?page=backend\",        # Acrimed\n",
    "\n",
    "    # Médias francophones internationaux\n",
    "    \"https://ici.radio-canada.ca/rss/4159\",                 # Radio-Canada\n",
    "    \"https://www.rfi.fr/fr/rss\",                            # RFI\n",
    "    \"https://www.tv5monde.com/rss/actualites\",              # TV5Monde\n",
    "\n",
    "    # Humour et satire\n",
    "    \"https://www.legorafi.fr/feed/\",                        # Le Gorafi\n",
    "\n",
    "    # Podcasts (audio)\n",
    "    \"https://feeds.acast.com/public/shows/61e6d2548e88e00012e13d0d\",  # Programme B (Binge)\n",
    "    \"https://rss.art19.com/le-code-a-change\"              # Le code a changé (Slate)\n",
    "    \n",
    "]\n",
    "\n",
    "df_total = pd.DataFrame()\n",
    "\n",
    "for flux in flux_list:\n",
    "    df_flux = filtrer_articles_rss(flux, mot)\n",
    "\n",
    "    #fusion du df obtenu avec le df total (concaténation ligne par ligne)\n",
    "    df_total = pd.concat([df_total, df_flux], ignore_index=True)\n",
    "\n",
    "if not df_total.empty: #indexer une colonne qui n'existe pas provoque une erreur : nous vérifions donc que nous avons les colonnes initialisées\n",
    "    df_total[\"annee\"] = pd.to_datetime(df_total[\"date\"], errors='coerce', utc=True).dt.year #conversion objet temps puis extraction de l'année\n",
    "\n",
    "df_total.head()"
   ]
  },
  {
   "cell_type": "markdown",
   "id": "d5387a95-a442-4d44-9cba-1b91fb8a04e3",
   "metadata": {},
   "source": [
    "Nous souhaitons supprimer le formattage html grâce à bs4 pour la lisibilité et l'intégration au verbatim"
   ]
  },
  {
   "cell_type": "code",
   "execution_count": 22,
   "id": "4af0471d-6400-4fda-9b92-5d8d19fc0505",
   "metadata": {},
   "outputs": [],
   "source": [
    "from bs4 import BeautifulSoup\n",
    "\n",
    "if not df_total.empty: #indexer une colonne qui n'existe pas provoque une erreur : nous vérifions donc que nous avons les colonnes initialisées\n",
    "    avant_apres, textes_propres = [], []\n",
    "    for description_html in df_total[\"description\"].values:\n",
    "        soup = BeautifulSoup(description_html, \"html.parser\")\n",
    "        texte_propre = soup.text.strip()\n",
    "        textes_propres.append(texte_propre)\n",
    "        avant_apres.append((description_html, texte_propre))"
   ]
  },
  {
   "cell_type": "markdown",
   "id": "3330092f-f837-4ea5-8313-0ff60cfe0a06",
   "metadata": {},
   "source": [
    "Ce n'est pas parfait, mais c'est beaucoup mieux"
   ]
  },
  {
   "cell_type": "code",
   "execution_count": 23,
   "id": "054f5fd8-6257-40d8-aec9-17c534d56f66",
   "metadata": {},
   "outputs": [
    {
     "name": "stdout",
     "output_type": "stream",
     "text": [
      "<span class=\"field field--name-title field--type-string field--label-hidden\">Qu’est-ce que le catholicisme social&nbsp;?</span>\n",
      "<span class=\"field field--name-uid field--type-entity-reference field--label-hidden\"><span>hschlegel</span></span>\n",
      "<span class=\"field field--name-created field--type-created field--label-hidden\"><time class=\"datetime\" datetime=\"2025-06-15T12:00:00+02:00\" title=\"Dimanche 15 juin 2025\">dim 15/06/2025 - 12:00</time>\n",
      "</span>\n",
      "\n",
      "\n",
      "  <div class=\"inline__links\"><nav class=\"links inline nav links-inline\"><span class=\"node-readmore nav-link\"><a href=\"https://www.philomag.com/articles/quest-ce-que-le-catholicisme-social\" hreflang=\"fr\" rel=\"tag\" title=\"Qu’est-ce que le catholicisme social&nbsp;?\">En savoir plus<span class=\"visually-hidden\"> sur Qu’est-ce que le catholicisme social&nbsp;?</span></a></span></nav>\n",
      "  </div>\n",
      "\n",
      "            <div class=\"clearfix text-formatted field field--name-field-content field--type-text-long field--label-hidden field__item\"><p class=\"p1\"><strong>Depuis sa prise de fonction, le pape Léon XIV suscite la curiosité&nbsp;: quelle est sa vision du monde&nbsp;? </strong>En tête des discussions, le choix de son nom, qui remonte à <strong>Léon XIII</strong>, célèbre pour avoir rédigé l’encyclique <em>Rerum novarum </em>en 1891. Cette encyclique trouve sa source dans un courant au XIX<sup>e</sup> siècle&nbsp;: le catholicisme social. Enquête.</p><p class=\"p2\">[CTA2]</p><hr /><p class=\"p1\"><br /><strong>C’est une notion qui regagne en actualité.</strong> En toile de fond de l’élection du pape <strong>Léon XIV</strong> resurgit une doctrine issue du XIX<sup>e</sup> siècle, dont <strong>Robert Francis Prevost </strong>– le nom du pape au civil – serait l’un des représentants&nbsp;: le catholicisme social. Et c’est dans les racines du nom qu’il s’est choisi en tant que Souverain pontife qu’il faut puiser. Car le nom qu’un pape se donne est bien loin d’être anodin. En 2013, <strong>Jorge Mario Bergoglio</strong> prend la décision de se nommer <a href=\"https://www.philomag.com/articles/francois-un-pape-vraiment-jesuite\"><strong>François</strong></a>, en hommage à saint <strong>François d’Assise</strong>, fondateur de l’ordre des <a href=\"https://fr.wikipedia.org/wiki/Ordre_des_Fr%C3%A8res_mineurs\">franciscains</a> connu pour sa philosophie du dénuement. Le nom du nouveau chef de l’Église catholique, lui, renvoie à <a href=\"https://fr.wikipedia.org/wiki/L%C3%A9on_XIII\"><strong>Léon XIII</strong></a>, pape de 1878 à 1903. C’est lui qui va faire passer à la postérité la «&nbsp;doctrine sociale de l’Église&nbsp;» à travers l’encyclique <a href=\"https://fr.wikipedia.org/wiki/Rerum_novarum\"><em>Rerum novarum</em></a> de 1891.</p><h2>Une origine traditionaliste</h2><p class=\"p1\"><strong>Dans les années 1830-1840, </strong>des débats émergent au sein de l’Église sur la question sociale. Avec l’émergence de la révolution industrielle, la condition ouvrière commence à prendre de l’importance. Pour <a href=\"https://www.ephe.psl.eu/denis-pelletier\"><span class=\"s1\"><strong>Denis Pelletier</strong></span></a>, historien spécialiste du catholicisme à l’École pratique des hautes études (EPHE), une inquiétude générale saisit les élites françaises. La question sociale est prise à bras-le-corps et quelque chose que l’on n’appelle pas encore catholicisme social commence à apparaître. Au cours de cette période, différents mouvements se forment en dehors de l’Église, parmi lesquels un fort courant légitimiste – et donc monarchiste – qui se crée en réaction au capitalisme. Il faut garder à l’esprit que les balbutiements du catholicisme social traversent l’ensemble du spectre politique de l’époque, des traditionalistes aux socialistes en passant par les libéraux. Mais les traditionalistes occupent une place fondamentale dans la propagation du catholicisme social, car l’Église est farouchement hostile au libéralisme et au socialisme. Aussi contre-intuitif que cela puisse paraître, ils font montre de plus de présence et d’activité que les chrétiens de gauche, minoritaires. Parmi les traditionalistes, on retrouve des personnages pionniers comme <a href=\"https://fr.wikipedia.org/wiki/Ren%C3%A9_de_La_Tour_du_Pin\"><strong>René de La Tour du Pin</strong></a>, <a href=\"https://fr.wikipedia.org/wiki/L%C3%A9on_Harmel\"><strong>Léon Harmel</strong></a> ou <a href=\"https://fr.wikipedia.org/wiki/Albert_de_Mun\"><strong>Albert de Mun</strong></a>. Homme politique et académicien, Albert de Mun s’impose, à droite, comme l’un des tenants d’une ligne sociale. Il est le fondateur de l’<a href=\"https://fr.wikipedia.org/wiki/%C5%92uvre_des_cercles_catholiques_d%27ouvriers\">Œuvre des cercles catholiques d’ouvriers</a>, une association créée en 1871. Celle-ci a pour but la rechristianisation de la classe ouvrière et la défense de ses intérêts contre la société capitaliste. Dans <em>Ma vocation sociale. Souvenirs de la fondation de l’Œuvre des cercles catholiques d’ouvriers (1871-1875)</em> (publié en 1908), il résume son engagement. Il est né d’un <em>«&nbsp;réveil&nbsp;» </em>face au <em>«&nbsp;cauchemar&nbsp;»</em> subi au début des années 1870, où se sont déroulés, entre autres, le siège de Paris, la défaite face à la Prusse puis la Commune. À la suite de ces événements, <em>«&nbsp;chacun avait l’impression qu’il renaissait à la vie, et non pas seulement à la vie matérielle, mais à la vie morale, à la vie nationale, à la vie patriotique&nbsp;»</em>. Cette période a été, pour Albert de Mun, le point de départ de la création de son cercle catholique ouvrier.</p><p class=\"p1 alt\"><strong>➤ À lire aussi&nbsp;: </strong><a href=\"https://www.philomag.com/articles/leon-xiv-portrait-philosophique-dun-pape-en-quete-dunite\"><strong>Léon XIV, portrait philosophique d’un pape en quête d’unité</strong></a></p><p class=\"p1\"><strong>Le cercle présente son projet à Lyon, en 1874, </strong>lors du congrès de l’<a href=\"https://fr.wikipedia.org/wiki/Union_des_%C5%93uvres_ouvri%C3%A8res_catholiques_de_France\">Union des œuvres ouvrières</a>, créée par des prêtres. <em>«&nbsp;L’Œuvre dont j’entreprends d’exposer ici la monographie a pour fin le dévouement de la classe dirigeante à la classe ouvrière&nbsp;; – pour principes les définitions de l’Église sur ses rapports avec la société civile – et pour forme le Cercle catholique d’ouvriers&nbsp;»</em>, commence son représentant, un certain «&nbsp;T.C.&nbsp;». Pour lui, la classe élevée, <em>«&nbsp;en abandonnant la tutelle des classes populaires&nbsp;»</em>, est responsable du désordre qui s’est emparé d’elle et menace rien de moins que de <em>«&nbsp;ruiner la patrie&nbsp;»</em>. Au lendemain de ce qu’il appelle des <em>«&nbsp;désastres nationaux&nbsp;»</em>, il estime que <em>«&nbsp;former des associations&nbsp;»</em> au sein de la classe dirigeante qui soient <em>«&nbsp;vouées au salut&nbsp;» </em>de la classe ouvrière est une pensée qui doit <em>«&nbsp;grandir en plusieurs cœurs&nbsp;»</em>. Il y a bel et bien, à cette époque, un surgissement de la question sociale, dont les catholiques, surtout issus de l’aristocratie et de la bourgeoisie, s’emparent. <em>«&nbsp;Nous ne nous sommes pas engagés dans une œuvre liée à la vie sociale sans être fermement persuadés qu’il existe une doctrine sociale nécessaire et immuable&nbsp;»</em>, peut-on lire.</p><p class=\"p1\"><strong>Si la question sociale est abondamment monopolisée par des catholiques plutôt traditionalistes, </strong>le catholicisme social s’impose également dans les milieux démocrates-chrétiens, voire chez certains socialistes. C’est notamment le cas de <a href=\"https://fr.wikipedia.org/wiki/Marc_Sangnier\"><strong>Marc Sangnier</strong></a>, qui fonde à la fin du XIX<sup>e</sup> siècle le mouvement «&nbsp;<a href=\"https://fr.wikipedia.org/wiki/Le_Sillon\">Le Sillon</a>&nbsp;», qui est d’abord un journal philosophique. Celui-ci vise à rapprocher les catholiques de la République et éloigner les ouvriers de la gauche marxiste et anticléricale. Progressiste, militant pour l’éducation populaire, pour la défense des opprimés et porteur d’un humanisme à tous crins, Sangnier marque d’une trace indélébile son époque et les suivantes. <em>«&nbsp;Il ne faudrait pas que notre soif de justice et notre désir d’égalité nous fissent rêver d’une société froide et desséchée, sans entrailles pour les vaincus de la vie, sans rémission pour les coupables et que n’éclairerait plus le sourire rédempteur de la charité du Christ&nbsp;»</em>, peut-on lire dans <em>La Lutte pour la démocratie</em> (1908).</p><h2>Léon XIII et la fondation de la “doctrine sociale de l’Église”</h2><p class=\"p1\"><strong>En 1891, après des années de ramification de la question sociale,</strong> l’Église catholique se positionne à travers un texte fondateur, l’encyclique <em>Rerum novarum </em>[<a href=\"https://www.vatican.va/content/leo-xiii/fr/encyclicals/documents/hf_l-xiii_enc_15051891_rerum-novarum.html\"><em>à lire dans son intégralité sur le site du Vatican</em></a>], rédigée par le pape Léon XIII. Comme l’explique Denis Pelletier, il est <em>«&nbsp;le premier texte du magistère romain qui prend position sur la question sociale&nbsp;». </em>Selon l’historien, <em>«&nbsp;Rome intervient pour réguler les discussions et non pas pour les fonder&nbsp;»</em>. Dans ce texte fouillé, Léon XIII ouvre l’Église catholique à la modernité et emprunte une troisième voie, entre le socialisme et le libéralisme capitaliste. D’emblée, Léon XIII dénonce <em>«&nbsp;la soif d’innovations qui depuis longtemps s’est emparée des sociétés et les tient dans une agitation fiévreuse&nbsp;»</em>. Il critique vertement les rapports de domination imposés par le système capitaliste et qui pèsent sur les épaules des ouvriers, ainsi que la concentration de l’industrie entre les mains de quelques-uns. Ces <em>«&nbsp;ploutocrates&nbsp;»</em> et <em>«&nbsp;hommes opulents&nbsp;» </em>imposent<em> «&nbsp;un joug presque servile à l’infinie multitude des prolétaires.&nbsp;»</em> Léon XIII fustige également la destruction des corporations anciennes, qui étaient, pour les ouvriers, qu’il appelle la <em>«&nbsp;multitude laissée dans l’indigence&nbsp;»</em>, des lieux de protection. Pour pallier ce mal, le chef de l’Église plaide pour <em>«&nbsp;venir en aide aux hommes des classes inférieures, attendu qu’ils sont pour la plupart dans une situation d’infortune et de misère imméritées&nbsp;»</em>, tout en regrettant que les sentiments religieux du passé aient disparu des lois et des institutions publiques. Fidèle à l’idée d’une troisième voie, Léon XIII n’épargne pas non plus le socialisme, accusé de vouloir <em>«&nbsp;guérir ce mal&nbsp;» </em>en <em>«&nbsp;poussant à la haine jalouse des pauvres contre les riches&nbsp;»</em>. Autrement dit, la remise en cause de la propriété proposée par les socialistes est <em>«&nbsp;souverainement injuste&nbsp;»</em> car elle <em>«&nbsp;viole&nbsp;»</em> les droits légitimes des propriétaires et trouble en profondeur <em>«&nbsp;l’édifice social&nbsp;»</em>. L’abolition de la propriété privée serait ainsi contraire à l’esprit du catholicisme social<em> réel</em> car elle rendrait les ouvriers plus précaires en leur retirant la<em> «&nbsp;libre disposition de leur salaire&nbsp;»</em>.</p><p class=\"p1 alt\"><strong>➤ À lire aussi&nbsp;: </strong><a href=\"https://www.philomag.com/articles/augustin-le-philosophe-qui-inspire-le-nouveau-pape-leon-xiv\"><strong>Augustin, le philosophe qui inspire Léon XIV</strong></a></p><p class=\"p1\"><strong>Par-delà cette querelle de la propriété privée,</strong> il estime, point cardinal de son encyclique, que les patrons <em>«&nbsp;ne doivent point traiter l’ouvrier en esclave&nbsp;; il est juste qu’ils respectent en lui la dignité de l’homme, relevée encore par celle du chrétien&nbsp;»</em>. Et de conclure que si la société humaine doit être <em>«&nbsp;guérie&nbsp;», </em>elle ne le sera que par le <em>«&nbsp;retour à la vie et aux institutions du christianisme.&nbsp;»</em> C’est ainsi que <em>Rerum novarum</em>, par son attention accordée à la question sociale et aux ouvriers, puis à sa dénonciation du capitalisme libéral et du socialisme, marque les esprits. Surtout, il fonde la «&nbsp;doctrine sociale de l’Église&nbsp;» et lui donne une substance au plus haut niveau. Il ne crée pas le catholicisme social, il l’institutionnalise. <em>Rerum novarum</em> a une postérité extrêmement importante, jusqu’à notre époque. L’encyclique influence des associations, des groupes, des syndicats qui revendiquent une appartenance à la grande famille du catholicisme social. En France, la CFTC (<a href=\"https://fr.wikipedia.org/wiki/Conf%C3%A9d%C3%A9ration_fran%C3%A7aise_des_travailleurs_chr%C3%A9tiens\">Confédération française des travailleurs chrétiens</a>), créée en 1919, s’en revendique explicitement. Au XX<sup>e</sup> siècle, le catholicisme social continue son évolution et se greffe à des problématiques plus modernes. Selon Denis Pelletier, il est affecté, dans les années 1940-50, par l’émergence du tiers monde, et dans les années 1950-60 par la question environnementale – qui continue à agiter l’Église et le pape François lors de la rédaction de <a href=\"https://fr.wikipedia.org/wiki/Laudato_si%27\"><em>Laudato si’</em></a><em> </em>en 2015. Signe de la postérité de la doctrine sociale élaborée au XIX<sup>e</sup> siècle, quarante années après <em>Rerum novarum</em>, le pape <a href=\"https://fr.wikipedia.org/wiki/Pie_XI\"><strong>Pie XI</strong></a> écrit en 1931 l’encyclique <a href=\"https://fr.wikipedia.org/wiki/Quadragesimo_anno\"><em>Quadragesimo anno</em></a>, qui commémore et poursuit les réflexions de Léon XIII. En 2004, la doctrine sociale fait l’objet d’une synthèse avec le <a href=\"https://www.vatican.va/roman_curia/pontifical_councils/justpeace/documents/rc_pc_justpeace_doc_20060526_compendio-dott-soc_fr.html\"><em>Compendium de la doctrine sociale de l’Église</em></a>, rédigée par le cardinal <a href=\"https://fr.wikipedia.org/wiki/Renato_Martino\"><strong>Martino</strong></a>, président du <a href=\"https://fr.wikipedia.org/wiki/Conseil_pontifical_Justice_et_Paix\">conseil pontifical Justice et Paix</a>.</p><h2>Et la théologie de la libération&nbsp;?</h2><p class=\"p1\"><strong>Mais le catholicisme social est un phénomène très circonscrit et européen. </strong>Des mouvements éclosent dans les années 1970 et prennent un pas de côté vis-à-vis du catholicisme social originel. C’est notamment le cas de la «&nbsp;théologie de la libération&nbsp;», qui prend forme en Amérique latine [<em>sur le sujet, lire </em><a href=\"https://www.philomag.com/articles/une-histoire-de-la-pensee-decoloniale-episode-15-il-etait-une-fois-en-amerique-latine\"><em>notre grande fresque sur l’histoire de la «&nbsp;pensée décoloniale&nbsp;»</em></a><em>, et notre </em><a href=\"https://www.philomag.com/articles/disparition-denrique-dussel-le-philosophe-de-la-liberation\"><em>portrait d’<strong>Enrique Dussel</strong></em></a>]. Pour Denis Pelletier, l’idée principale de cette théologie est de<em> «&nbsp;penser la question théologique à partir de l’injustice sociale dans les pays du Sud&nbsp;»</em>. Si la théologie de la libération n’est rien de moins qu’un courant, une variante du catholicisme social, l’historien explique que celle-ci marque quand même une rupture. En effet, elle tente de s’éloigner de ce dernier, jugé trop <em>«&nbsp;conservateur&nbsp;»</em>. Alors que le catholicisme social a été théorisé par une majeure partie de traditionalistes, la théologie de la libération mêle christianisme et marxisme et lutte contre l’oppression, sous quelque forme que ce soit (économique, militaire ou policière). Pour certains, le pape François s’inscrivait dans le sillage de la théologie de la libération, lui qui était critique du néolibéralisme, de l’oppression, et portait une attention particulière aux opprimés, d’où qu’ils viennent.</p><h2>La filiation avec Léon XIV</h2><p class=\"p1\"><strong>Et Léon XIV, dans tout ça&nbsp;?</strong> Avec le nouveau chef de l’Église catholique, le catholicisme social théorisé au XIX<sup>e</sup> siècle semble revenir sur le devant de la scène. La filiation avec Léon XIII et son encyclique <em>Rerum novarum</em> est assumée, revendiquée, et permet d’asseoir la base doctrinale de son futur pontificat. Dans <a href=\"https://www.vatican.va/content/leo-xiv/fr/speeches/2025/may/documents/20250516-corpo-diplomatico.html\">un discours prononcé le 16 mai dernier</a>, Léon XIV s’ancre véritablement dans le sillage de Léon XIII.<em> «&nbsp;Poursuivre la paix exige de pratiquer la justice. Comme je l’ai déjà évoqué, j’ai choisi mon nom en pensant avant tout à Léon XIII, le pape de la première grande encyclique sociale&nbsp;», Rerum novarum</em>, avance-t-il. Et il ajoute&nbsp;:</p><blockquote><p class=\"p1\"><em>“Dans le changement d’époque que nous vivons, le Saint-Siège ne peut s’empêcher de faire entendre sa voix face aux nombreux déséquilibres et injustices qui conduisent, entre autres, à des conditions de travail indignes et à des sociétés de plus en plus fragmentées et conflictuelles. Il faut également s’efforcer de remédier aux inégalités mondiales, qui voient l’opulence et la misère creuser des fossés profonds entre les continents, entre les pays et même au sein d’une société”</em></p></blockquote><p class=\"p1 legend\">Pape Léon XIV, discours du 16 mai 2025 aux membres du Corps diplomatique accrédité près le Saint-Siège</p><p class=\"p1\"><strong>Avec Léon XIV, l’Église semble s’être choisie un pape unificateur, progressiste, </strong>qui lutte contre les oppressions et fait valoir les principes d’une doctrine sociale forgée deux siècles plus tôt. Si le nouveau pape semble arborer une vision légèrement plus conservatrice que son prédécesseur (mosette rouge traditionnelle, étole dorée…), éloignée du dénuement le plus extrême des franciscains, il n’en reste pas moins attentif à la misère d’autrui, au point d’en faire l’axe principal de son pontificat. La communauté catholique jugera sur pièces. Affaire à suivre.</p></div>\n",
      "      \n",
      "            <div class=\"field field--name-field-cover-node field--type-entity-reference field--label-hidden field__item\">\n",
      "            <div class=\"field field--name-field-image field--type-image field--label-hidden field__item\">  <img alt=\"alt\" class=\"image-style-dossiers\" height=\"210\" src=\"https://www.philomag.com/sites/default/files/styles/dossiers/public/images/sans-titre_12.jpg\" width=\"333\" />\n",
      "\n",
      "\n",
      "</div>\n",
      "      </div>\n",
      "      \n",
      "            <div class=\"field field--name-field-publication-date field--type-datetime field--label-hidden field__item\"><time class=\"datetime\" datetime=\"2025-06-15T10:00:00Z\">juin 2025</time>\n",
      "</div> \n",
      "=\n",
      " Qu’est-ce que le catholicisme social ?\n",
      "hschlegel\n",
      "dim 15/06/2025 - 12:00\n",
      "\n",
      "En savoir plus sur Qu’est-ce que le catholicisme social ?\n",
      "\n",
      "Depuis sa prise de fonction, le pape Léon XIV suscite la curiosité : quelle est sa vision du monde ? En tête des discussions, le choix de son nom, qui remonte à Léon XIII, célèbre pour avoir rédigé l’encyclique Rerum novarum en 1891. Cette encyclique trouve sa source dans un courant au XIXe siècle : le catholicisme social. Enquête.[CTA2]C’est une notion qui regagne en actualité. En toile de fond de l’élection du pape Léon XIV resurgit une doctrine issue du XIXe siècle, dont Robert Francis Prevost – le nom du pape au civil – serait l’un des représentants : le catholicisme social. Et c’est dans les racines du nom qu’il s’est choisi en tant que Souverain pontife qu’il faut puiser. Car le nom qu’un pape se donne est bien loin d’être anodin. En 2013, Jorge Mario Bergoglio prend la décision de se nommer François, en hommage à saint François d’Assise, fondateur de l’ordre des franciscains connu pour sa philosophie du dénuement. Le nom du nouveau chef de l’Église catholique, lui, renvoie à Léon XIII, pape de 1878 à 1903. C’est lui qui va faire passer à la postérité la « doctrine sociale de l’Église » à travers l’encyclique Rerum novarum de 1891.Une origine traditionalisteDans les années 1830-1840, des débats émergent au sein de l’Église sur la question sociale. Avec l’émergence de la révolution industrielle, la condition ouvrière commence à prendre de l’importance. Pour Denis Pelletier, historien spécialiste du catholicisme à l’École pratique des hautes études (EPHE), une inquiétude générale saisit les élites françaises. La question sociale est prise à bras-le-corps et quelque chose que l’on n’appelle pas encore catholicisme social commence à apparaître. Au cours de cette période, différents mouvements se forment en dehors de l’Église, parmi lesquels un fort courant légitimiste – et donc monarchiste – qui se crée en réaction au capitalisme. Il faut garder à l’esprit que les balbutiements du catholicisme social traversent l’ensemble du spectre politique de l’époque, des traditionalistes aux socialistes en passant par les libéraux. Mais les traditionalistes occupent une place fondamentale dans la propagation du catholicisme social, car l’Église est farouchement hostile au libéralisme et au socialisme. Aussi contre-intuitif que cela puisse paraître, ils font montre de plus de présence et d’activité que les chrétiens de gauche, minoritaires. Parmi les traditionalistes, on retrouve des personnages pionniers comme René de La Tour du Pin, Léon Harmel ou Albert de Mun. Homme politique et académicien, Albert de Mun s’impose, à droite, comme l’un des tenants d’une ligne sociale. Il est le fondateur de l’Œuvre des cercles catholiques d’ouvriers, une association créée en 1871. Celle-ci a pour but la rechristianisation de la classe ouvrière et la défense de ses intérêts contre la société capitaliste. Dans Ma vocation sociale. Souvenirs de la fondation de l’Œuvre des cercles catholiques d’ouvriers (1871-1875) (publié en 1908), il résume son engagement. Il est né d’un « réveil » face au « cauchemar » subi au début des années 1870, où se sont déroulés, entre autres, le siège de Paris, la défaite face à la Prusse puis la Commune. À la suite de ces événements, « chacun avait l’impression qu’il renaissait à la vie, et non pas seulement à la vie matérielle, mais à la vie morale, à la vie nationale, à la vie patriotique ». Cette période a été, pour Albert de Mun, le point de départ de la création de son cercle catholique ouvrier.➤ À lire aussi : Léon XIV, portrait philosophique d’un pape en quête d’unitéLe cercle présente son projet à Lyon, en 1874, lors du congrès de l’Union des œuvres ouvrières, créée par des prêtres. « L’Œuvre dont j’entreprends d’exposer ici la monographie a pour fin le dévouement de la classe dirigeante à la classe ouvrière ; – pour principes les définitions de l’Église sur ses rapports avec la société civile – et pour forme le Cercle catholique d’ouvriers », commence son représentant, un certain « T.C. ». Pour lui, la classe élevée, « en abandonnant la tutelle des classes populaires », est responsable du désordre qui s’est emparé d’elle et menace rien de moins que de « ruiner la patrie ». Au lendemain de ce qu’il appelle des « désastres nationaux », il estime que « former des associations » au sein de la classe dirigeante qui soient « vouées au salut » de la classe ouvrière est une pensée qui doit « grandir en plusieurs cœurs ». Il y a bel et bien, à cette époque, un surgissement de la question sociale, dont les catholiques, surtout issus de l’aristocratie et de la bourgeoisie, s’emparent. « Nous ne nous sommes pas engagés dans une œuvre liée à la vie sociale sans être fermement persuadés qu’il existe une doctrine sociale nécessaire et immuable », peut-on lire.Si la question sociale est abondamment monopolisée par des catholiques plutôt traditionalistes, le catholicisme social s’impose également dans les milieux démocrates-chrétiens, voire chez certains socialistes. C’est notamment le cas de Marc Sangnier, qui fonde à la fin du XIXe siècle le mouvement « Le Sillon », qui est d’abord un journal philosophique. Celui-ci vise à rapprocher les catholiques de la République et éloigner les ouvriers de la gauche marxiste et anticléricale. Progressiste, militant pour l’éducation populaire, pour la défense des opprimés et porteur d’un humanisme à tous crins, Sangnier marque d’une trace indélébile son époque et les suivantes. « Il ne faudrait pas que notre soif de justice et notre désir d’égalité nous fissent rêver d’une société froide et desséchée, sans entrailles pour les vaincus de la vie, sans rémission pour les coupables et que n’éclairerait plus le sourire rédempteur de la charité du Christ », peut-on lire dans La Lutte pour la démocratie (1908).Léon XIII et la fondation de la “doctrine sociale de l’Église”En 1891, après des années de ramification de la question sociale, l’Église catholique se positionne à travers un texte fondateur, l’encyclique Rerum novarum [à lire dans son intégralité sur le site du Vatican], rédigée par le pape Léon XIII. Comme l’explique Denis Pelletier, il est « le premier texte du magistère romain qui prend position sur la question sociale ». Selon l’historien, « Rome intervient pour réguler les discussions et non pas pour les fonder ». Dans ce texte fouillé, Léon XIII ouvre l’Église catholique à la modernité et emprunte une troisième voie, entre le socialisme et le libéralisme capitaliste. D’emblée, Léon XIII dénonce « la soif d’innovations qui depuis longtemps s’est emparée des sociétés et les tient dans une agitation fiévreuse ». Il critique vertement les rapports de domination imposés par le système capitaliste et qui pèsent sur les épaules des ouvriers, ainsi que la concentration de l’industrie entre les mains de quelques-uns. Ces « ploutocrates » et « hommes opulents » imposent « un joug presque servile à l’infinie multitude des prolétaires. » Léon XIII fustige également la destruction des corporations anciennes, qui étaient, pour les ouvriers, qu’il appelle la « multitude laissée dans l’indigence », des lieux de protection. Pour pallier ce mal, le chef de l’Église plaide pour « venir en aide aux hommes des classes inférieures, attendu qu’ils sont pour la plupart dans une situation d’infortune et de misère imméritées », tout en regrettant que les sentiments religieux du passé aient disparu des lois et des institutions publiques. Fidèle à l’idée d’une troisième voie, Léon XIII n’épargne pas non plus le socialisme, accusé de vouloir « guérir ce mal » en « poussant à la haine jalouse des pauvres contre les riches ». Autrement dit, la remise en cause de la propriété proposée par les socialistes est « souverainement injuste » car elle « viole » les droits légitimes des propriétaires et trouble en profondeur « l’édifice social ». L’abolition de la propriété privée serait ainsi contraire à l’esprit du catholicisme social réel car elle rendrait les ouvriers plus précaires en leur retirant la « libre disposition de leur salaire ».➤ À lire aussi : Augustin, le philosophe qui inspire Léon XIVPar-delà cette querelle de la propriété privée, il estime, point cardinal de son encyclique, que les patrons « ne doivent point traiter l’ouvrier en esclave ; il est juste qu’ils respectent en lui la dignité de l’homme, relevée encore par celle du chrétien ». Et de conclure que si la société humaine doit être « guérie », elle ne le sera que par le « retour à la vie et aux institutions du christianisme. » C’est ainsi que Rerum novarum, par son attention accordée à la question sociale et aux ouvriers, puis à sa dénonciation du capitalisme libéral et du socialisme, marque les esprits. Surtout, il fonde la « doctrine sociale de l’Église » et lui donne une substance au plus haut niveau. Il ne crée pas le catholicisme social, il l’institutionnalise. Rerum novarum a une postérité extrêmement importante, jusqu’à notre époque. L’encyclique influence des associations, des groupes, des syndicats qui revendiquent une appartenance à la grande famille du catholicisme social. En France, la CFTC (Confédération française des travailleurs chrétiens), créée en 1919, s’en revendique explicitement. Au XXe siècle, le catholicisme social continue son évolution et se greffe à des problématiques plus modernes. Selon Denis Pelletier, il est affecté, dans les années 1940-50, par l’émergence du tiers monde, et dans les années 1950-60 par la question environnementale – qui continue à agiter l’Église et le pape François lors de la rédaction de Laudato si’ en 2015. Signe de la postérité de la doctrine sociale élaborée au XIXe siècle, quarante années après Rerum novarum, le pape Pie XI écrit en 1931 l’encyclique Quadragesimo anno, qui commémore et poursuit les réflexions de Léon XIII. En 2004, la doctrine sociale fait l’objet d’une synthèse avec le Compendium de la doctrine sociale de l’Église, rédigée par le cardinal Martino, président du conseil pontifical Justice et Paix.Et la théologie de la libération ?Mais le catholicisme social est un phénomène très circonscrit et européen. Des mouvements éclosent dans les années 1970 et prennent un pas de côté vis-à-vis du catholicisme social originel. C’est notamment le cas de la « théologie de la libération », qui prend forme en Amérique latine [sur le sujet, lire notre grande fresque sur l’histoire de la « pensée décoloniale », et notre portrait d’Enrique Dussel]. Pour Denis Pelletier, l’idée principale de cette théologie est de « penser la question théologique à partir de l’injustice sociale dans les pays du Sud ». Si la théologie de la libération n’est rien de moins qu’un courant, une variante du catholicisme social, l’historien explique que celle-ci marque quand même une rupture. En effet, elle tente de s’éloigner de ce dernier, jugé trop « conservateur ». Alors que le catholicisme social a été théorisé par une majeure partie de traditionalistes, la théologie de la libération mêle christianisme et marxisme et lutte contre l’oppression, sous quelque forme que ce soit (économique, militaire ou policière). Pour certains, le pape François s’inscrivait dans le sillage de la théologie de la libération, lui qui était critique du néolibéralisme, de l’oppression, et portait une attention particulière aux opprimés, d’où qu’ils viennent.La filiation avec Léon XIVEt Léon XIV, dans tout ça ? Avec le nouveau chef de l’Église catholique, le catholicisme social théorisé au XIXe siècle semble revenir sur le devant de la scène. La filiation avec Léon XIII et son encyclique Rerum novarum est assumée, revendiquée, et permet d’asseoir la base doctrinale de son futur pontificat. Dans un discours prononcé le 16 mai dernier, Léon XIV s’ancre véritablement dans le sillage de Léon XIII. « Poursuivre la paix exige de pratiquer la justice. Comme je l’ai déjà évoqué, j’ai choisi mon nom en pensant avant tout à Léon XIII, le pape de la première grande encyclique sociale », Rerum novarum, avance-t-il. Et il ajoute :“Dans le changement d’époque que nous vivons, le Saint-Siège ne peut s’empêcher de faire entendre sa voix face aux nombreux déséquilibres et injustices qui conduisent, entre autres, à des conditions de travail indignes et à des sociétés de plus en plus fragmentées et conflictuelles. Il faut également s’efforcer de remédier aux inégalités mondiales, qui voient l’opulence et la misère creuser des fossés profonds entre les continents, entre les pays et même au sein d’une société”Pape Léon XIV, discours du 16 mai 2025 aux membres du Corps diplomatique accrédité près le Saint-SiègeAvec Léon XIV, l’Église semble s’être choisie un pape unificateur, progressiste, qui lutte contre les oppressions et fait valoir les principes d’une doctrine sociale forgée deux siècles plus tôt. Si le nouveau pape semble arborer une vision légèrement plus conservatrice que son prédécesseur (mosette rouge traditionnelle, étole dorée…), éloignée du dénuement le plus extrême des franciscains, il n’en reste pas moins attentif à la misère d’autrui, au point d’en faire l’axe principal de son pontificat. La communauté catholique jugera sur pièces. Affaire à suivre.\n",
      "\n",
      " \n",
      "\n",
      "\n",
      "juin 2025\n"
     ]
    }
   ],
   "source": [
    "import random\n",
    "\n",
    "try:\n",
    "    avant_apres_x = random.choice(avant_apres)\n",
    "    print(avant_apres_x[0], '\\n=\\n', avant_apres_x[1])\n",
    "except:\n",
    "    print(\"aucun exemple disponible car pas d'articles trouvés\")"
   ]
  },
  {
   "cell_type": "markdown",
   "id": "c6f2b773-ab0e-4e0b-8565-46f8c69e4ce3",
   "metadata": {},
   "source": [
    "Exemple :\n",
    "![Exemple](docs/flux_rss_formattage_bs4.png)"
   ]
  },
  {
   "cell_type": "code",
   "execution_count": 24,
   "id": "0226ad23-e2e0-454d-9dee-b21731d10452",
   "metadata": {},
   "outputs": [
    {
     "data": {
      "text/html": [
       "<div>\n",
       "<style scoped>\n",
       "    .dataframe tbody tr th:only-of-type {\n",
       "        vertical-align: middle;\n",
       "    }\n",
       "\n",
       "    .dataframe tbody tr th {\n",
       "        vertical-align: top;\n",
       "    }\n",
       "\n",
       "    .dataframe thead th {\n",
       "        text-align: right;\n",
       "    }\n",
       "</style>\n",
       "<table border=\"1\" class=\"dataframe\">\n",
       "  <thead>\n",
       "    <tr style=\"text-align: right;\">\n",
       "      <th></th>\n",
       "      <th>titre</th>\n",
       "      <th>date</th>\n",
       "      <th>description</th>\n",
       "      <th>lien</th>\n",
       "      <th>annee</th>\n",
       "    </tr>\n",
       "  </thead>\n",
       "  <tbody>\n",
       "    <tr>\n",
       "      <th>0</th>\n",
       "      <td>L’hebdomadaire antisémite « Rivarol » au bord ...</td>\n",
       "      <td>Fri, 13 Jun 2025 15:00:00 +0200</td>\n",
       "      <td>Titre historique de l’extrême droite d’après-g...</td>\n",
       "      <td>https://www.lemonde.fr/politique/article/2025/...</td>\n",
       "      <td>2025.0</td>\n",
       "    </tr>\n",
       "    <tr>\n",
       "      <th>1</th>\n",
       "      <td>En Espagne, une constellation poreuse d’influe...</td>\n",
       "      <td>Thu, 12 Jun 2025 05:00:03 +0200</td>\n",
       "      <td>« L’essor des médias réactionnaires en Europe ...</td>\n",
       "      <td>https://www.lemonde.fr/economie/article/2025/0...</td>\n",
       "      <td>2025.0</td>\n",
       "    </tr>\n",
       "    <tr>\n",
       "      <th>2</th>\n",
       "      <td>Aux Pays-Bas, la chaîne ON ! est soutenue par ...</td>\n",
       "      <td>Wed, 11 Jun 2025 14:30:03 +0200</td>\n",
       "      <td>« L’essor des médias réactionnaires en Europe ...</td>\n",
       "      <td>https://www.lemonde.fr/economie/article/2025/0...</td>\n",
       "      <td>2025.0</td>\n",
       "    </tr>\n",
       "    <tr>\n",
       "      <th>3</th>\n",
       "      <td>En Pologne, une galaxie de médias ultraconserv...</td>\n",
       "      <td>Tue, 10 Jun 2025 16:30:08 +0200</td>\n",
       "      <td>« L’essor des médias réactionnaires en Europe ...</td>\n",
       "      <td>https://www.lemonde.fr/economie/article/2025/0...</td>\n",
       "      <td>2025.0</td>\n",
       "    </tr>\n",
       "    <tr>\n",
       "      <th>4</th>\n",
       "      <td>Louis Sarkozy, Napo baby</td>\n",
       "      <td>Tue, 13 May 2025 13:35:00 +0000</td>\n",
       "      <td>Admirateur de Napoléon, le fils de l’ancien pr...</td>\n",
       "      <td>https://www.liberation.fr/portraits/louis-sark...</td>\n",
       "      <td>2025.0</td>\n",
       "    </tr>\n",
       "  </tbody>\n",
       "</table>\n",
       "</div>"
      ],
      "text/plain": [
       "                                               titre  \\\n",
       "0  L’hebdomadaire antisémite « Rivarol » au bord ...   \n",
       "1  En Espagne, une constellation poreuse d’influe...   \n",
       "2  Aux Pays-Bas, la chaîne ON ! est soutenue par ...   \n",
       "3  En Pologne, une galaxie de médias ultraconserv...   \n",
       "4                           Louis Sarkozy, Napo baby   \n",
       "\n",
       "                              date  \\\n",
       "0  Fri, 13 Jun 2025 15:00:00 +0200   \n",
       "1  Thu, 12 Jun 2025 05:00:03 +0200   \n",
       "2  Wed, 11 Jun 2025 14:30:03 +0200   \n",
       "3  Tue, 10 Jun 2025 16:30:08 +0200   \n",
       "4  Tue, 13 May 2025 13:35:00 +0000   \n",
       "\n",
       "                                         description  \\\n",
       "0  Titre historique de l’extrême droite d’après-g...   \n",
       "1  « L’essor des médias réactionnaires en Europe ...   \n",
       "2  « L’essor des médias réactionnaires en Europe ...   \n",
       "3  « L’essor des médias réactionnaires en Europe ...   \n",
       "4  Admirateur de Napoléon, le fils de l’ancien pr...   \n",
       "\n",
       "                                                lien   annee  \n",
       "0  https://www.lemonde.fr/politique/article/2025/...  2025.0  \n",
       "1  https://www.lemonde.fr/economie/article/2025/0...  2025.0  \n",
       "2  https://www.lemonde.fr/economie/article/2025/0...  2025.0  \n",
       "3  https://www.lemonde.fr/economie/article/2025/0...  2025.0  \n",
       "4  https://www.liberation.fr/portraits/louis-sark...  2025.0  "
      ]
     },
     "execution_count": 24,
     "metadata": {},
     "output_type": "execute_result"
    }
   ],
   "source": [
    "if not df_total.empty:\n",
    "    df_total[\"description\"] = textes_propres\n",
    "    df_total.to_csv(\"data/actualite_avec_mot.csv\", index=False)\n",
    "\n",
    "df_total.head()"
   ]
  },
  {
   "cell_type": "markdown",
   "id": "45d5238c-ae05-4118-86f3-953523584201",
   "metadata": {},
   "source": [
    "Le code total du flux rss doit être appelé de la manière suivante :\n",
    "```python\n",
    "from flux_rss import recup_articles\n",
    "```"
   ]
  },
  {
   "cell_type": "markdown",
   "id": "47d5e383-3711-407f-a0c9-13573bcebfab",
   "metadata": {
    "vscode": {
     "languageId": "plaintext"
    }
   },
   "source": [
    "# Interface web via Streamlit"
   ]
  },
  {
   "cell_type": "markdown",
   "id": "f4d8358a-0b5e-4124-a5f5-b27a61d0b9cf",
   "metadata": {},
   "source": [
    "## Gestion du mot en entrée"
   ]
  },
  {
   "cell_type": "markdown",
   "id": "a3bffa53-0930-4234-86ee-9a6746433d07",
   "metadata": {
    "vscode": {
     "languageId": "plaintext"
    }
   },
   "source": [
    "Nous souhaitons passer par une web app grâce à [Streamlit](https://streamlit.io/) pour donner le choix du mot à l'utilisateur.\n",
    "\n",
    "Nous souhaitons n'autoriser que des mots existants pour pouvoir générer la fiche lexicale ou chercher les synonymes associés au mot sans ne générer d'erreur car le mot n'existe pas. Pour se faire, nous utilisons [une liste des mots du dictionnaire français](https://github.com/drogbadvc/wiktionaire-fr/blob/main/dict.txt)."
   ]
  },
  {
   "cell_type": "code",
   "execution_count": 25,
   "id": "38c62deb-888d-49d8-993d-d9764c666f55",
   "metadata": {},
   "outputs": [
    {
     "name": "stdout",
     "output_type": "stream",
     "text": [
      "Le mot  droite  se trouve t-il dans notre dictionnaire ?  True\n",
      "Mot au hasard pris dans le dictionnaire :  lithologie\n"
     ]
    }
   ],
   "source": [
    "import requests\n",
    "import random\n",
    "\n",
    "url = 'https://raw.githubusercontent.com/drogbadvc/wiktionaire-fr/refs/heads/main/dict.txt'\n",
    "response = requests.get(url)\n",
    "\n",
    "if response.status_code == 200:\n",
    "    dictionnaire = response.text\n",
    "    print(\"Le mot \", mot, \" se trouve t-il dans notre dictionnaire ? \", mot in dictionnaire)\n",
    "    mot_hasard = random.choice(dictionnaire.splitlines())\n",
    "    print(\"Mot au hasard pris dans le dictionnaire : \", mot_hasard)"
   ]
  },
  {
   "cell_type": "markdown",
   "id": "2f6ea1eb-88f4-4f62-81cd-01c271283825",
   "metadata": {
    "vscode": {
     "languageId": "plaintext"
    }
   },
   "source": [
    "La normalisation se fait à des niveaux locaux comme [la recherche dans les tweets](#Twitter-/-X) ou le nom de titre d'oeuvres mais n'a pas été généralisée car l'application de la fonction lower() sur des millions d'observations est souvent longue et peu utile dans notre cas."
   ]
  },
  {
   "cell_type": "markdown",
   "id": "1b450df7-4589-481a-84ae-93790e45d715",
   "metadata": {},
   "source": [
    "## Utilisation des modules python"
   ]
  },
  {
   "cell_type": "markdown",
   "id": "c7812643-ed0f-40c7-8180-f7c5997199cc",
   "metadata": {},
   "source": [
    "Ensuite, nous regardons [ce simple tutoriel streamlit](https://www.youtube.com/watch?v=D0D4Pa22iG0) afin de réaliser une interface web minimale pour permettre de choisir le mot, afficher les données récupérées en ligne, faire les calculs, générer les fichiers csv et générer le fichier Excel final."
   ]
  },
  {
   "cell_type": "code",
   "execution_count": 26,
   "id": "1ee79ba3-2a5c-4d6d-8b0b-86a8d3e460bd",
   "metadata": {},
   "outputs": [],
   "source": [
    "%%capture\n",
    "pip install streamlit"
   ]
  },
  {
   "cell_type": "markdown",
   "id": "931e1bf5-8897-4ae5-94fe-25882a960457",
   "metadata": {},
   "source": [
    "```bash\n",
    "python -m streamlit run main_interface_web.py\n",
    "```\n",
    "\n",
    "voir `main_interface_web.py`, fait office de programme principal dans notre projet car il appelle tous les programmes crées précedemment afin de créer le tableau de bord final. Il appelle également le fichier `main_excel.py` qui permet la génération du tableau de bord Excel."
   ]
  }
 ],
 "metadata": {
  "kernelspec": {
   "display_name": "Python 3 (ipykernel)",
   "language": "python",
   "name": "python3"
  },
  "language_info": {
   "codemirror_mode": {
    "name": "ipython",
    "version": 3
   },
   "file_extension": ".py",
   "mimetype": "text/x-python",
   "name": "python",
   "nbconvert_exporter": "python",
   "pygments_lexer": "ipython3",
   "version": "3.12.6"
  }
 },
 "nbformat": 4,
 "nbformat_minor": 5
}
