{
 "cells": [
  {
   "cell_type": "markdown",
   "id": "3b26a377-83e4-4d8e-8517-59ddf81dd863",
   "metadata": {},
   "source": [
    "# L'observatoire du mot"
   ]
  },
  {
   "cell_type": "markdown",
   "id": "78188147-b1c6-4cc0-94cf-6508e38a100c",
   "metadata": {},
   "source": [
    "à faire :\n",
    "- trouver de meilleurs noms pour les éléments de la liste au PN\n",
    "- Modifier l'introduction\n",
    "\n",
    "questions :\n",
    "- Le rapport Excel dynamique doit contenir le plus de filtres possibles ?"
   ]
  },
  {
   "cell_type": "markdown",
   "id": "1cb6d0a8-703a-40f7-8008-20c9527818e1",
   "metadata": {},
   "source": [
    "## INTRODUCTION"
   ]
  },
  {
   "cell_type": "markdown",
   "id": "cafd221e-bf86-475f-834c-1dfcb9cda2c5",
   "metadata": {},
   "source": [
    "Nous avons imaginés un observatoire permettant d'avoir une vue d'ensemble sur un mot du dictionnaire. Le but est de produire un rapport sémantique et culturel autour d’un mot. C'est un projet exploratoire, linguistique et culturel. Notre rapport Exel automatisé se présente donc comme un dictionnaire augmenté pour toute personne désireuse de connaître la place d'un mot dans le monde.\n",
    "Un mot est une notion vaste qui apparait dans plusieurs domaines. blabla. Un mot existe par le monde et c'est le monde qui fait la langue."
   ]
  },
  {
   "cell_type": "markdown",
   "id": "c8415305-b1fd-4962-a12d-aff0cda1793a",
   "metadata": {},
   "source": [
    "Nous souhaitons le rendre le plus ... possible : ce doit être un outil de poche que l'utilisateur s'approprie pour ces propres besoins, et pas seulement un outil qui donnerait le même résultat à tout le monde."
   ]
  },
  {
   "cell_type": "markdown",
   "id": "512d7d89-046b-47cc-b41b-a55791d3422a",
   "metadata": {},
   "source": [
    "Liste au père Noël :\n",
    "filtre de langues sur tous les points si dessous\n",
    "- Définitions / etymologie / synonymes / antonymes / citations célèbres / traduction. Piste : Wikitionary, CNRTL, univ de caen (https://crisco4.unicaen.fr/des/synonymes/boulette)\n",
    "- Apparition dans les oeuvres : Gutenberg / Gallica / IMDb / paroles.net / Genius (+ top)\n",
    "- Réseaux sociaux (peu importe soit-il tant que l'API est facile à accéder). Piste : Twitter, Reddit, Youtube, forum\n",
    "\t- évolution de l’occurrence du mot sur tous nos réseaux sociaux\n",
    "\t- recupérer les tops tweet/threads/commentaires/vidéos/hashtags/trendings contenant le mot\n",
    "\t- Donner un score de popularité (étoiles)\n",
    "\t- Avec quels autres mots notre mot se retrouve t il le plus ? \n",
    "- Médias. Piste Mediapart, Le Monde, Brut (via flux RSS ou scraping)\n",
    "\t- Retrouver les articles de l'actualité contenant ce mot.\n",
    " \n",
    "Nous avons ensuite définis notre schéma, en associant chaque élément de la liste à un graphique.\n",
    "![](./Schema_l_observatoire_du_mot-1.jpg)\n",
    "\n",
    "Il faut un tout cohérent et qui fonctionne ensemble. De plus il faut récupérer toutes ces données en Python via l'utilisation d'API ou de scraping simple pour que le code soit le plus simple et efficace possible (: \"Le code ne doit pas nécessiter de modification de ma part pour fonctionner\"). Comment structurer le programme de récupération des données ?"
   ]
  },
  {
   "cell_type": "markdown",
   "id": "31df2ce9-6f24-4208-a072-92834f90ac57",
   "metadata": {},
   "source": [
    "Le but de ce rapport automatisé en Excel est de pouvoir taper en entrée le mot et d'obtenir en sortie une donnée structurée et réutilisable grâce à la librarie Openpypxl (partie de Louis)."
   ]
  },
  {
   "cell_type": "markdown",
   "id": "aa716d88-41e9-49ed-8d7c-e87fd81c96a3",
   "metadata": {},
   "source": [
    "A quoi ressemble un tableau de bord qui traite des données textuelles :\n",
    "![](https://www.geckoboard.com/uploads/live-call-center-dashboard-example.png)"
   ]
  },
  {
   "cell_type": "markdown",
   "id": "97145b6e-0c05-4b5f-b885-ea85ed5598c6",
   "metadata": {},
   "source": [
    "#### Deux approches possibles pour répondre à la liste du père Noël\n",
    "\n",
    "- Idée précise -> recherche sur le net à comment récupérer ces données (exemple : fiche lexical).\n",
    "Pros : On risque dobtenir et d'utiliser la meilleure méthode tout de suite\n",
    "Cons : démultiplier le nombre d'API traitement\n",
    "\n",
    "- Plateforme connues et API (exemple : IMDB, RS (Twitter)) pour\n",
    "    - Comparatif qui intéresse l'user\n",
    "    - fiabilité de l'information (plateformes utilisées par million)\n",
    "Dans ce cas, la plateforme peut devenir un bac à sable pour répondre à nos questions (quels sont les titres des oeuvres les plus appréciées contenant ce mot ?). Cette deuxième approche donne également plus de crédibilité au projet."
   ]
  },
  {
   "cell_type": "markdown",
   "id": "3b5cb558-1dda-4e8e-a4d6-60ca234d72f0",
   "metadata": {},
   "source": [
    "# Etapes identifiées"
   ]
  },
  {
   "cell_type": "markdown",
   "id": "0f8ecd77-2a92-4fc1-9c01-5a979ece45b8",
   "metadata": {},
   "source": [
    "## Etape 1 : choix de la structure de données\n",
    "Définir la structure de données que l'on souhaite en entrée (Louis)"
   ]
  },
  {
   "cell_type": "markdown",
   "id": "e409ec9a-6d37-4ff5-bc65-2ea23f5fffbc",
   "metadata": {},
   "source": [
    "## Etape 2 : données de backup\n",
    "Nous pensons récupérer les données souhaitées et les mettre dans un fichier de base contenant quelques oeuvres littéraires connus, quelques tweets connus, quelques paroles de chansons les plus connues etc etc etc pour construire un jeu de données qui servira de backup en cas de soucis. Il nous faut donc réflechir sur quelle structure de données doit entrer dasn"
   ]
  },
  {
   "cell_type": "markdown",
   "id": "66c7c5f7-34cd-46e0-822a-ea438284deb1",
   "metadata": {},
   "source": [
    "## Etape 3 : interface Streamlit\n",
    "Réfléchir à une interface Streamlit qui permetterait à l'utilisateur d'entrer le mot de son choix"
   ]
  },
  {
   "cell_type": "code",
   "execution_count": null,
   "id": "117c3930-d085-48b6-b634-7ced93432a7a",
   "metadata": {},
   "outputs": [],
   "source": []
  }
 ],
 "metadata": {
  "kernelspec": {
   "display_name": "Python 3 (ipykernel)",
   "language": "python",
   "name": "python3"
  },
  "language_info": {
   "codemirror_mode": {
    "name": "ipython",
    "version": 3
   },
   "file_extension": ".py",
   "mimetype": "text/x-python",
   "name": "python",
   "nbconvert_exporter": "python",
   "pygments_lexer": "ipython3",
   "version": "3.12.9"
  }
 },
 "nbformat": 4,
 "nbformat_minor": 5
}
